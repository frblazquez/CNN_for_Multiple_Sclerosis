{
 "cells": [
  {
   "cell_type": "markdown",
   "metadata": {},
   "source": [
    "### Image generator"
   ]
  },
  {
   "cell_type": "code",
   "execution_count": 1,
   "metadata": {},
   "outputs": [],
   "source": [
    "import matplotlib.pyplot as plt \n",
    "import numpy as np \n",
    "import csv\n",
    "import pandas as pd"
   ]
  },
  {
   "cell_type": "markdown",
   "metadata": {},
   "source": [
    "#### Print for GPU profiles"
   ]
  },
  {
   "cell_type": "code",
   "execution_count": 2,
   "metadata": {},
   "outputs": [],
   "source": [
    "unet_eddl_profile_path  = \"./unet/eddl/profiles/\"\n",
    "unet_tf_profile_path  = \"./unet/tf/profiles/\"\n",
    "dunet_eddl_profile_path = \"./double_unet/eddl/profiles/\"\n",
    "dunet_tf_profile_path = \"./double_unet/tf/profiles/\""
   ]
  },
  {
   "cell_type": "code",
   "execution_count": 3,
   "metadata": {},
   "outputs": [],
   "source": [
    "unet_eddl_tr_profile  = pd.read_csv(unet_eddl_profile_path  + \"GPUprofile_unet_t4_tr.csv\")\n",
    "unet_eddl_ts_profile  = pd.read_csv(unet_eddl_profile_path  + \"GPUprofile_unet_t4_ts.csv\")\n",
    "unet_tf_tr_profile    = pd.read_csv(unet_tf_profile_path    + \"GPUprofile_unet_t4_tr.csv\")\n",
    "unet_tf_ts_profile    = pd.read_csv(unet_tf_profile_path    + \"GPUprofile_unet_t4_ts.csv\")\n",
    "dunet_eddl_tr_profile = pd.read_csv(dunet_eddl_profile_path + \"GPUprofile_double_unet_t4_tr.csv\")\n",
    "dunet_eddl_ts_profile = pd.read_csv(dunet_eddl_profile_path + \"GPUprofile_double_unet_t4_ts.csv\")\n",
    "dunet_tf_tr_profile   = pd.read_csv(dunet_tf_profile_path   + \"GPUprofile_double_unet_t4_tr.csv\")\n",
    "dunet_tf_ts_profile   = pd.read_csv(dunet_tf_profile_path   + \"GPUprofile_double_unet_t4_ts.csv\")"
   ]
  },
  {
   "cell_type": "code",
   "execution_count": 12,
   "metadata": {
    "scrolled": true
   },
   "outputs": [
    {
     "data": {
      "text/html": [
       "<div>\n",
       "<style scoped>\n",
       "    .dataframe tbody tr th:only-of-type {\n",
       "        vertical-align: middle;\n",
       "    }\n",
       "\n",
       "    .dataframe tbody tr th {\n",
       "        vertical-align: top;\n",
       "    }\n",
       "\n",
       "    .dataframe thead th {\n",
       "        text-align: right;\n",
       "    }\n",
       "</style>\n",
       "<table border=\"1\" class=\"dataframe\">\n",
       "  <thead>\n",
       "    <tr style=\"text-align: right;\">\n",
       "      <th></th>\n",
       "      <th>power.draw [W]</th>\n",
       "      <th>utilization.gpu [%]</th>\n",
       "      <th>utilization.memory [%]</th>\n",
       "      <th>temperature.gpu</th>\n",
       "    </tr>\n",
       "  </thead>\n",
       "  <tbody>\n",
       "    <tr>\n",
       "      <th>count</th>\n",
       "      <td>170.000000</td>\n",
       "      <td>170.000000</td>\n",
       "      <td>170.000000</td>\n",
       "      <td>170.000000</td>\n",
       "    </tr>\n",
       "    <tr>\n",
       "      <th>mean</th>\n",
       "      <td>69.139706</td>\n",
       "      <td>96.629412</td>\n",
       "      <td>63.723529</td>\n",
       "      <td>71.235294</td>\n",
       "    </tr>\n",
       "    <tr>\n",
       "      <th>std</th>\n",
       "      <td>4.569708</td>\n",
       "      <td>1.861559</td>\n",
       "      <td>2.473536</td>\n",
       "      <td>0.608559</td>\n",
       "    </tr>\n",
       "    <tr>\n",
       "      <th>min</th>\n",
       "      <td>52.670000</td>\n",
       "      <td>89.000000</td>\n",
       "      <td>45.000000</td>\n",
       "      <td>70.000000</td>\n",
       "    </tr>\n",
       "    <tr>\n",
       "      <th>25%</th>\n",
       "      <td>67.040000</td>\n",
       "      <td>96.000000</td>\n",
       "      <td>62.000000</td>\n",
       "      <td>71.000000</td>\n",
       "    </tr>\n",
       "    <tr>\n",
       "      <th>50%</th>\n",
       "      <td>70.060000</td>\n",
       "      <td>97.000000</td>\n",
       "      <td>64.000000</td>\n",
       "      <td>71.000000</td>\n",
       "    </tr>\n",
       "    <tr>\n",
       "      <th>75%</th>\n",
       "      <td>71.802500</td>\n",
       "      <td>98.000000</td>\n",
       "      <td>65.000000</td>\n",
       "      <td>71.000000</td>\n",
       "    </tr>\n",
       "    <tr>\n",
       "      <th>max</th>\n",
       "      <td>80.960000</td>\n",
       "      <td>100.000000</td>\n",
       "      <td>69.000000</td>\n",
       "      <td>73.000000</td>\n",
       "    </tr>\n",
       "  </tbody>\n",
       "</table>\n",
       "</div>"
      ],
      "text/plain": [
       "       power.draw [W]   utilization.gpu [%]   utilization.memory [%]  \\\n",
       "count      170.000000            170.000000               170.000000   \n",
       "mean        69.139706             96.629412                63.723529   \n",
       "std          4.569708              1.861559                 2.473536   \n",
       "min         52.670000             89.000000                45.000000   \n",
       "25%         67.040000             96.000000                62.000000   \n",
       "50%         70.060000             97.000000                64.000000   \n",
       "75%         71.802500             98.000000                65.000000   \n",
       "max         80.960000            100.000000                69.000000   \n",
       "\n",
       "        temperature.gpu  \n",
       "count        170.000000  \n",
       "mean          71.235294  \n",
       "std            0.608559  \n",
       "min           70.000000  \n",
       "25%           71.000000  \n",
       "50%           71.000000  \n",
       "75%           71.000000  \n",
       "max           73.000000  "
      ]
     },
     "execution_count": 12,
     "metadata": {},
     "output_type": "execute_result"
    }
   ],
   "source": [
    "#unet_eddl_tr_profile .describe()\n",
    "#unet_eddl_ts_profile .describe()\n",
    "#unet_tf_tr_profile   .describe()\n",
    "#unet_tf_ts_profile   .describe()\n",
    "#dunet_eddl_tr_profile.describe()\n",
    "#dunet_eddl_ts_profile.describe()\n",
    "#dunet_tf_tr_profile  .describe()\n",
    "dunet_tf_ts_profile  .describe()"
   ]
  },
  {
   "cell_type": "code",
   "execution_count": 5,
   "metadata": {},
   "outputs": [],
   "source": [
    "i = 3\n",
    "suffix = \"ts\"\n",
    "net = \"unet\""
   ]
  },
  {
   "cell_type": "code",
   "execution_count": 6,
   "metadata": {},
   "outputs": [],
   "source": [
    "y1 = unet_tf_ts_profile[unet_tf_tr_profile.columns[i]].values[0:128]\n",
    "y2 = unet_eddl_ts_profile[unet_tf_tr_profile.columns[i]].values[0:128]"
   ]
  },
  {
   "cell_type": "code",
   "execution_count": 7,
   "metadata": {
    "scrolled": true
   },
   "outputs": [
    {
     "data": {
      "image/png": "[encoded data removed]",
      "text/plain": [
       "<Figure size 432x288 with 1 Axes>"
      ]
     },
     "metadata": {
      "needs_background": "light"
     },
     "output_type": "display_data"
    }
   ],
   "source": [
    "f = plt.figure()\n",
    "\n",
    "#f.set_figwidth(4)\n",
    "#f.set_figheight(1)\n",
    "\n",
    "# plot the data \n",
    "plt.plot(list(range(128)), y1, color ='tab:blue') \n",
    "plt.plot(list(range(128)), y2, color ='tab:orange') \n",
    "    \n",
    "    \n",
    "# set the limits \n",
    "plt.xlim([-0.5, 128]) \n",
    "#plt.ylim([-0.5, 90]) \n",
    "\n",
    "plt.xticks([])\n",
    "#plt.yticks([])\n",
    "  \n",
    "#plt.title('U-Net loss function tf and eddl') \n",
    "    \n",
    "# display the plot \n",
    "plt.show()"
   ]
  },
  {
   "cell_type": "code",
   "execution_count": 68,
   "metadata": {},
   "outputs": [],
   "source": [
    "f.savefig(net+\"_\"+suffix+\"_\"+str(i)+\".jpg\", bbox_inches='tight')"
   ]
  },
  {
   "cell_type": "markdown",
   "metadata": {},
   "source": [
    "#### Print for GPU profiles"
   ]
  },
  {
   "cell_type": "code",
   "execution_count": 13,
   "metadata": {},
   "outputs": [],
   "source": [
    "unet_eddl_profile_path  = \"./unet/eddl/profiles/\"\n",
    "unet_tf_profile_path  = \"./unet/tf/profiles/\"\n",
    "dunet_eddl_profile_path = \"./double_unet/eddl/profiles/\"\n",
    "dunet_tf_profile_path = \"./double_unet/tf/profiles/\""
   ]
  },
  {
   "cell_type": "code",
   "execution_count": 14,
   "metadata": {},
   "outputs": [],
   "source": [
    "unet_eddl_tr_profile  = pd.read_csv(unet_eddl_profile_path  + \"unet_tr_profile_cpu.csv\")\n",
    "unet_eddl_ts_profile  = pd.read_csv(unet_eddl_profile_path  + \"unet_ts_profile_cpu.csv\")\n",
    "unet_tf_tr_profile    = pd.read_csv(unet_tf_profile_path    + \"unet_tr_profile_cpu.csv\")\n",
    "unet_tf_ts_profile    = pd.read_csv(unet_tf_profile_path    + \"unet_ts_profile_cpu.csv\")\n",
    "dunet_eddl_tr_profile = pd.read_csv(dunet_eddl_profile_path + \"double_unet_tr_profile_cpu.csv\")\n",
    "dunet_eddl_ts_profile = pd.read_csv(dunet_eddl_profile_path + \"double_unet_ts_profile_cpu.csv\")\n",
    "dunet_tf_tr_profile   = pd.read_csv(dunet_tf_profile_path   + \"double_unet_tr_profile_cpu.csv\")\n",
    "dunet_tf_ts_profile   = pd.read_csv(dunet_tf_profile_path   + \"double_unet_ts_profile_cpu.csv\")"
   ]
  },
  {
   "cell_type": "code",
   "execution_count": 25,
   "metadata": {},
   "outputs": [
    {
     "data": {
      "text/html": [
       "<div>\n",
       "<style scoped>\n",
       "    .dataframe tbody tr th:only-of-type {\n",
       "        vertical-align: middle;\n",
       "    }\n",
       "\n",
       "    .dataframe tbody tr th {\n",
       "        vertical-align: top;\n",
       "    }\n",
       "\n",
       "    .dataframe thead th {\n",
       "        text-align: right;\n",
       "    }\n",
       "</style>\n",
       "<table border=\"1\" class=\"dataframe\">\n",
       "  <thead>\n",
       "    <tr style=\"text-align: right;\">\n",
       "      <th></th>\n",
       "      <th>PR</th>\n",
       "      <th>NI</th>\n",
       "      <th>VIRT</th>\n",
       "      <th>RES</th>\n",
       "      <th>SHR</th>\n",
       "      <th>%CPU</th>\n",
       "      <th>%MEM</th>\n",
       "    </tr>\n",
       "  </thead>\n",
       "  <tbody>\n",
       "    <tr>\n",
       "      <th>count</th>\n",
       "      <td>431.0</td>\n",
       "      <td>431.0</td>\n",
       "      <td>431.000000</td>\n",
       "      <td>431.000000</td>\n",
       "      <td>431.000000</td>\n",
       "      <td>431.000000</td>\n",
       "      <td>431.000000</td>\n",
       "    </tr>\n",
       "    <tr>\n",
       "      <th>mean</th>\n",
       "      <td>20.0</td>\n",
       "      <td>0.0</td>\n",
       "      <td>24.638747</td>\n",
       "      <td>6.083295</td>\n",
       "      <td>89740.380510</td>\n",
       "      <td>7810.526682</td>\n",
       "      <td>1.630394</td>\n",
       "    </tr>\n",
       "    <tr>\n",
       "      <th>std</th>\n",
       "      <td>0.0</td>\n",
       "      <td>0.0</td>\n",
       "      <td>0.966777</td>\n",
       "      <td>0.276017</td>\n",
       "      <td>72.648526</td>\n",
       "      <td>348.970471</td>\n",
       "      <td>0.046049</td>\n",
       "    </tr>\n",
       "    <tr>\n",
       "      <th>min</th>\n",
       "      <td>20.0</td>\n",
       "      <td>0.0</td>\n",
       "      <td>24.000000</td>\n",
       "      <td>5.900000</td>\n",
       "      <td>89616.000000</td>\n",
       "      <td>2283.000000</td>\n",
       "      <td>1.600000</td>\n",
       "    </tr>\n",
       "    <tr>\n",
       "      <th>25%</th>\n",
       "      <td>20.0</td>\n",
       "      <td>0.0</td>\n",
       "      <td>24.000000</td>\n",
       "      <td>5.900000</td>\n",
       "      <td>89708.000000</td>\n",
       "      <td>7717.000000</td>\n",
       "      <td>1.600000</td>\n",
       "    </tr>\n",
       "    <tr>\n",
       "      <th>50%</th>\n",
       "      <td>20.0</td>\n",
       "      <td>0.0</td>\n",
       "      <td>24.000000</td>\n",
       "      <td>5.900000</td>\n",
       "      <td>89708.000000</td>\n",
       "      <td>7875.000000</td>\n",
       "      <td>1.600000</td>\n",
       "    </tr>\n",
       "    <tr>\n",
       "      <th>75%</th>\n",
       "      <td>20.0</td>\n",
       "      <td>0.0</td>\n",
       "      <td>26.100000</td>\n",
       "      <td>6.500000</td>\n",
       "      <td>89840.000000</td>\n",
       "      <td>8000.000000</td>\n",
       "      <td>1.700000</td>\n",
       "    </tr>\n",
       "    <tr>\n",
       "      <th>max</th>\n",
       "      <td>20.0</td>\n",
       "      <td>0.0</td>\n",
       "      <td>26.100000</td>\n",
       "      <td>6.500000</td>\n",
       "      <td>89844.000000</td>\n",
       "      <td>8000.000000</td>\n",
       "      <td>1.700000</td>\n",
       "    </tr>\n",
       "  </tbody>\n",
       "</table>\n",
       "</div>"
      ],
      "text/plain": [
       "        PR       NI        VIRT         RES           SHR        %CPU   \\\n",
       "count  431.0  431.0  431.000000  431.000000    431.000000   431.000000   \n",
       "mean    20.0    0.0   24.638747    6.083295  89740.380510  7810.526682   \n",
       "std      0.0    0.0    0.966777    0.276017     72.648526   348.970471   \n",
       "min     20.0    0.0   24.000000    5.900000  89616.000000  2283.000000   \n",
       "25%     20.0    0.0   24.000000    5.900000  89708.000000  7717.000000   \n",
       "50%     20.0    0.0   24.000000    5.900000  89708.000000  7875.000000   \n",
       "75%     20.0    0.0   26.100000    6.500000  89840.000000  8000.000000   \n",
       "max     20.0    0.0   26.100000    6.500000  89844.000000  8000.000000   \n",
       "\n",
       "             %MEM  \n",
       "count  431.000000  \n",
       "mean     1.630394  \n",
       "std      0.046049  \n",
       "min      1.600000  \n",
       "25%      1.600000  \n",
       "50%      1.600000  \n",
       "75%      1.700000  \n",
       "max      1.700000  "
      ]
     },
     "execution_count": 25,
     "metadata": {},
     "output_type": "execute_result"
    }
   ],
   "source": [
    "#unet_eddl_tr_profile.describe()\n",
    "#unet_eddl_ts_profile .describe()\n",
    "#unet_tf_tr_profile   .describe()\n",
    "#unet_tf_ts_profile   .describe()\n",
    "#dunet_eddl_tr_profile.describe()\n",
    "#dunet_eddl_ts_profile.describe()\n",
    "#dunet_tf_tr_profile  .describe()\n",
    "dunet_tf_ts_profile  .describe()"
   ]
  },
  {
   "cell_type": "code",
   "execution_count": 94,
   "metadata": {},
   "outputs": [],
   "source": [
    "i = 6\n",
    "suffix = \"tr\"\n",
    "net = \"double_unet\""
   ]
  },
  {
   "cell_type": "code",
   "execution_count": 95,
   "metadata": {},
   "outputs": [],
   "source": [
    "y1 = dunet_tf_tr_profile[unet_tf_tr_profile.columns[i]].values[0:400]\n",
    "y2 = dunet_eddl_tr_profile[unet_tf_tr_profile.columns[i]].values[0:400]"
   ]
  },
  {
   "cell_type": "code",
   "execution_count": 96,
   "metadata": {
    "scrolled": true
   },
   "outputs": [
    {
     "data": {
      "image/png": "[encoded data removed]",
      "text/plain": [
       "<Figure size 432x288 with 1 Axes>"
      ]
     },
     "metadata": {
      "needs_background": "light"
     },
     "output_type": "display_data"
    }
   ],
   "source": [
    "f = plt.figure()\n",
    "\n",
    "#f.set_figwidth(4)\n",
    "#f.set_figheight(1)\n",
    "\n",
    "# plot the data \n",
    "plt.plot(list(range(400)), y1, color ='tab:blue') \n",
    "plt.plot(list(range(400)), y2, color ='tab:orange') \n",
    "    \n",
    "    \n",
    "# set the limits \n",
    "#plt.xlim([-0.5, 128]) \n",
    "#plt.ylim([-0.5, 90]) \n",
    "\n",
    "plt.xticks([])\n",
    "#plt.yticks([])\n",
    "  \n",
    "#plt.title('U-Net loss function tf and eddl') \n",
    "    \n",
    "# display the plot \n",
    "plt.show()"
   ]
  },
  {
   "cell_type": "code",
   "execution_count": 97,
   "metadata": {},
   "outputs": [],
   "source": [
    "f.savefig(net+\"_\"+suffix+\"_\"+str(i)+\".jpg\", bbox_inches='tight')"
   ]
  },
  {
   "cell_type": "markdown",
   "metadata": {},
   "source": [
    "#### Print for evaluation"
   ]
  },
  {
   "cell_type": "code",
   "execution_count": 26,
   "metadata": {},
   "outputs": [],
   "source": [
    "unet_eddl_tr_metrics  = pd.read_csv(\"./unet/eddl/train_metrics/train_metrics.csv\")\n",
    "unet_eddl_ts_metrics  = pd.read_csv(\"./unet/eddl/validation_metrics/validation_metrics.csv\")\n",
    "unet_tf_tr_metrics    = pd.read_csv(\"./unet/tf/train_metrics/train_metrics.csv\")\n",
    "unet_tf_ts_metrics    = pd.read_csv(\"./unet/tf/validation_metrics/validation_metrics.csv\")\n",
    "dunet_eddl_tr_metrics = pd.read_csv(\"./double_unet/eddl/train_metrics/train_metrics.csv\")\n",
    "dunet_eddl_ts_metrics = pd.read_csv(\"./double_unet/eddl/validation_metrics/validation_metrics.csv\")\n",
    "dunet_tf_tr_metrics   = pd.read_csv(\"./double_unet/tf/train_metrics/train_metrics.csv\")\n",
    "dunet_tf_ts_metrics   = pd.read_csv(\"./double_unet/tf/validation_metrics/validation_metrics.csv\")"
   ]
  },
  {
   "cell_type": "code",
   "execution_count": 35,
   "metadata": {},
   "outputs": [
    {
     "data": {
      "text/html": [
       "<div>\n",
       "<style scoped>\n",
       "    .dataframe tbody tr th:only-of-type {\n",
       "        vertical-align: middle;\n",
       "    }\n",
       "\n",
       "    .dataframe tbody tr th {\n",
       "        vertical-align: top;\n",
       "    }\n",
       "\n",
       "    .dataframe thead th {\n",
       "        text-align: right;\n",
       "    }\n",
       "</style>\n",
       "<table border=\"1\" class=\"dataframe\">\n",
       "  <thead>\n",
       "    <tr style=\"text-align: right;\">\n",
       "      <th></th>\n",
       "      <th>binary_cross_entropy</th>\n",
       "      <th>dice</th>\n",
       "      <th>mse</th>\n",
       "      <th>binary_accuracy</th>\n",
       "    </tr>\n",
       "  </thead>\n",
       "  <tbody>\n",
       "    <tr>\n",
       "      <th>count</th>\n",
       "      <td>128.000000</td>\n",
       "      <td>128.000000</td>\n",
       "      <td>128.000000</td>\n",
       "      <td>128.000000</td>\n",
       "    </tr>\n",
       "    <tr>\n",
       "      <th>mean</th>\n",
       "      <td>0.014839</td>\n",
       "      <td>0.553580</td>\n",
       "      <td>0.002699</td>\n",
       "      <td>0.995974</td>\n",
       "    </tr>\n",
       "    <tr>\n",
       "      <th>std</th>\n",
       "      <td>0.054805</td>\n",
       "      <td>0.304807</td>\n",
       "      <td>0.013996</td>\n",
       "      <td>0.001362</td>\n",
       "    </tr>\n",
       "    <tr>\n",
       "      <th>min</th>\n",
       "      <td>0.002258</td>\n",
       "      <td>0.003067</td>\n",
       "      <td>0.000288</td>\n",
       "      <td>0.980811</td>\n",
       "    </tr>\n",
       "    <tr>\n",
       "      <th>25%</th>\n",
       "      <td>0.002624</td>\n",
       "      <td>0.253354</td>\n",
       "      <td>0.000305</td>\n",
       "      <td>0.996115</td>\n",
       "    </tr>\n",
       "    <tr>\n",
       "      <th>50%</th>\n",
       "      <td>0.002770</td>\n",
       "      <td>0.754703</td>\n",
       "      <td>0.000324</td>\n",
       "      <td>0.996156</td>\n",
       "    </tr>\n",
       "    <tr>\n",
       "      <th>75%</th>\n",
       "      <td>0.003182</td>\n",
       "      <td>0.797751</td>\n",
       "      <td>0.000398</td>\n",
       "      <td>0.996171</td>\n",
       "    </tr>\n",
       "    <tr>\n",
       "      <th>max</th>\n",
       "      <td>0.459100</td>\n",
       "      <td>0.820159</td>\n",
       "      <td>0.135415</td>\n",
       "      <td>0.996196</td>\n",
       "    </tr>\n",
       "  </tbody>\n",
       "</table>\n",
       "</div>"
      ],
      "text/plain": [
       "       binary_cross_entropy        dice         mse  binary_accuracy\n",
       "count            128.000000  128.000000  128.000000       128.000000\n",
       "mean               0.014839    0.553580    0.002699         0.995974\n",
       "std                0.054805    0.304807    0.013996         0.001362\n",
       "min                0.002258    0.003067    0.000288         0.980811\n",
       "25%                0.002624    0.253354    0.000305         0.996115\n",
       "50%                0.002770    0.754703    0.000324         0.996156\n",
       "75%                0.003182    0.797751    0.000398         0.996171\n",
       "max                0.459100    0.820159    0.135415         0.996196"
      ]
     },
     "execution_count": 35,
     "metadata": {},
     "output_type": "execute_result"
    }
   ],
   "source": [
    "#unet_eddl_tr_metrics .describe()\n",
    "#unet_eddl_ts_metrics .describe()\n",
    "#unet_tf_tr_metrics   .describe()\n",
    "#unet_tf_ts_metrics   .describe()\n",
    "#dunet_eddl_tr_metrics.describe()\n",
    "#dunet_eddl_ts_metrics.describe()\n",
    "#dunet_tf_tr_metrics  .describe()\n",
    "dunet_tf_ts_metrics  .describe()"
   ]
  },
  {
   "cell_type": "code",
   "execution_count": 51,
   "metadata": {},
   "outputs": [],
   "source": [
    "i = 1\n",
    "suffix = \"ts\"\n",
    "net = \"unet\""
   ]
  },
  {
   "cell_type": "code",
   "execution_count": 52,
   "metadata": {},
   "outputs": [],
   "source": [
    "y1 = unet_tf_ts_metrics[  unet_tf_ts_metrics.columns[1]].values[0:128]\n",
    "y2 = unet_eddl_ts_metrics[unet_eddl_ts_metrics.columns[i]].values[0:128]"
   ]
  },
  {
   "cell_type": "code",
   "execution_count": 62,
   "metadata": {},
   "outputs": [
    {
     "data": {
      "image/png": "[encoded data removed]",
      "text/plain": [
       "<Figure size 432x288 with 1 Axes>"
      ]
     },
     "metadata": {
      "needs_background": "light"
     },
     "output_type": "display_data"
    }
   ],
   "source": [
    "f = plt.figure()\n",
    "\n",
    "#f.set_figwidth(4)\n",
    "#f.set_figheight(1)\n",
    "\n",
    "# plot the data \n",
    "plt.plot(list(range(128)), y1, color ='tab:blue') \n",
    "plt.plot(list(range(128)), y2, color ='tab:orange') \n",
    "    \n",
    "    \n",
    "# set the limits \n",
    "plt.xlim([-0.5, 128]) \n",
    "#plt.ylim([-0.5, 90]) \n",
    "\n",
    "#plt.xticks([])\n",
    "#plt.yticks([])\n",
    "  \n",
    "#plt.title('U-Net loss function tf and eddl') \n",
    "    \n",
    "# display the plot \n",
    "plt.show()"
   ]
  },
  {
   "cell_type": "code",
   "execution_count": 49,
   "metadata": {},
   "outputs": [],
   "source": [
    "f.savefig(net+\"_\"+suffix+\"_\"+str(i)+\".jpg\", bbox_inches='tight')"
   ]
  },
  {
   "cell_type": "markdown",
   "metadata": {},
   "source": [
    "#### Print for evaluation of 3-D models"
   ]
  },
  {
   "cell_type": "code",
   "execution_count": 2,
   "metadata": {},
   "outputs": [],
   "source": [
    "model1_tr_metrics_eddl = pd.read_csv(\"./3d_model/eddl/cascade_model_tr1_profile.csv\")\n",
    "model1_ts_metrics_eddl = pd.read_csv(\"./3d_model/eddl/cascade_model_ts1_profile.csv\")\n",
    "model2_tr_metrics_eddl = pd.read_csv(\"./3d_model/eddl/cascade_model_tr2_profile.csv\")\n",
    "model2_ts_metrics_eddl = pd.read_csv(\"./3d_model/eddl/cascade_model_ts2_profile.csv\")\n",
    "                                 \n",
    "model1_tr_metrics_tf  = pd.read_csv(\"./3d_model/tf/cascade_model_tr1_profile.csv\")\n",
    "model1_ts_metrics_tf  = pd.read_csv(\"./3d_model/tf/cascade_model_ts1_profile.csv\")\n",
    "model2_tr_metrics_tf  = pd.read_csv(\"./3d_model/tf/cascade_model_tr2_profile.csv\")\n",
    "model2_ts_metrics_tf  = pd.read_csv(\"./3d_model/tf/cascade_model_ts2_profile.csv\")"
   ]
  },
  {
   "cell_type": "code",
   "execution_count": 3,
   "metadata": {},
   "outputs": [],
   "source": [
    "#model1_tr_metrics_eddl.describe()\n",
    "#model1_ts_metrics_eddl.describe()\n",
    "#model2_tr_metrics_eddl.describe()\n",
    "#model2_ts_metrics_eddl.describe()\n",
    "\n",
    "#model1_tr_metrics_tf  .describe()\n",
    "#model1_ts_metrics_tf  .describe()\n",
    "#model2_tr_metrics_tf  .describe()\n",
    "#model2_ts_metrics_tf  .describe()"
   ]
  },
  {
   "cell_type": "code",
   "execution_count": 45,
   "metadata": {},
   "outputs": [],
   "source": [
    "i = 6\n",
    "suffix = \"ts\"\n",
    "net = \"model2\""
   ]
  },
  {
   "cell_type": "code",
   "execution_count": 46,
   "metadata": {},
   "outputs": [],
   "source": [
    "y1 = model2_ts_metrics_tf[  model1_tr_metrics_tf.columns[i]].values[0:200]\n",
    "y2 = model2_ts_metrics_eddl[model1_tr_metrics_tf.columns[i]].values[0:200]"
   ]
  },
  {
   "cell_type": "code",
   "execution_count": 47,
   "metadata": {},
   "outputs": [
    {
     "data": {
      "image/png": "[encoded data removed]",
      "text/plain": [
       "<Figure size 432x288 with 1 Axes>"
      ]
     },
     "metadata": {
      "needs_background": "light"
     },
     "output_type": "display_data"
    }
   ],
   "source": [
    "f = plt.figure()\n",
    "\n",
    "#f.set_figwidth(4)\n",
    "#f.set_figheight(1)\n",
    "\n",
    "# plot the data \n",
    "plt.plot(list(range(200)), y1, color ='tab:blue') \n",
    "plt.plot(list(range(200)), y2, color ='tab:orange') \n",
    "    \n",
    "    \n",
    "# set the limits \n",
    "#plt.xlim([-0.5, 128]) \n",
    "#plt.ylim([-0.5, 90]) \n",
    "\n",
    "plt.xticks([])\n",
    "#plt.yticks([])\n",
    "  \n",
    "#plt.title('U-Net loss function tf and eddl') \n",
    "    \n",
    "# display the plot \n",
    "plt.show()"
   ]
  },
  {
   "cell_type": "code",
   "execution_count": 48,
   "metadata": {},
   "outputs": [],
   "source": [
    "f.savefig(net+\"_\"+suffix+\"_\"+str(i)+\".jpg\", bbox_inches='tight')"
   ]
  },
  {
   "cell_type": "code",
   "execution_count": null,
   "metadata": {},
   "outputs": [],
   "source": []
  }
 ],
 "metadata": {
  "kernelspec": {
   "display_name": "Python 3",
   "language": "python",
   "name": "python3"
  },
  "language_info": {
   "codemirror_mode": {
    "name": "ipython",
    "version": 3
   },
   "file_extension": ".py",
   "mimetype": "text/x-python",
   "name": "python",
   "nbconvert_exporter": "python",
   "pygments_lexer": "ipython3",
   "version": "3.8.5"
  }
 },
 "nbformat": 4,
 "nbformat_minor": 4
}
