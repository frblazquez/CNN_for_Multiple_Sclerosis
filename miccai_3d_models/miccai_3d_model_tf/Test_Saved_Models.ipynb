{
 "cells": [
  {
   "cell_type": "code",
   "execution_count": 1,
   "metadata": {},
   "outputs": [],
   "source": [
    "%load_ext autoreload\n",
    "%autoreload 2\n",
    "%matplotlib inline\n",
    "import matplotlib.pyplot as plt\n",
    "\n",
    "import os\n",
    "from collections import OrderedDict\n",
    "from base import *\n",
    "from build_model_tf import cascade_model\n",
    "from config import *\n",
    "import base\n",
    "import numpy as np"
   ]
  },
  {
   "cell_type": "code",
   "execution_count": 2,
   "metadata": {},
   "outputs": [],
   "source": [
    "\n",
    "options = {}\n",
    "\n",
    "# --------------------------------------------------\n",
    "# Experiment parameters\n",
    "# --------------------------------------------------\n",
    "\n",
    "# image modalities used (T1, FLAIR, PD, T2, ...) \n",
    "#options['modalities'] = ['T1', 'FLAIR','GADO','DP','T2']\n",
    "options['modalities'] = ['FLAIR','T1','T2']\n",
    "\n",
    "# Select an experiment name to store net weights and segmentation masks\n",
    "options['experiment'] = 'test_CNN'\n",
    "\n",
    "# In order to expose the classifier to more challeging samples, a threshold can be used to to select \n",
    "# candidate voxels for training. Note that images are internally normalized to 0 mean 1 standard deviation \n",
    "# before applying thresholding. So a value of t > 0.5 on FLAIR is reasonable in most cases to extract \n",
    "# all WM lesion candidates\n",
    "options['min_th'] = 0.5\n",
    "\n",
    "# randomize training features before fitting the model.  \n",
    "options['randomize_train'] = True\n",
    "\n",
    "# Select between pixel-wise or fully-convolutional training models. Although implemented, fully-convolutional\n",
    "# models have been not tested with this cascaded model \n",
    "options['fully_convolutional'] = False\n",
    "\n",
    "\n",
    "# --------------------------------------------------\n",
    "# model parameters\n",
    "# --------------------------------------------------\n",
    "\n",
    "# 3D patch size. So, far only implemented for 3D CNN models. \n",
    "options['patch_size'] = (11,11,11)\n",
    "\n",
    "# percentage of the training vector that is going to be used to validate the model during training\n",
    "options['train_split'] = 0.25\n",
    "\n",
    "# maximum number of epochs used to train the model\n",
    "#options['max_epochs'] = 200\n",
    "\n",
    "options['max_epochs'] = 400\n",
    "\n",
    "# maximum number of epochs without improving validation before stopping training (early stopping) \n",
    "#options['patience'] = 25\n",
    "options['patience'] = 10\n",
    "\n",
    "# Number of samples used to test at once. This parameter should be around 50000 for machines\n",
    "# with less than 32GB of RAM\n",
    "options['batch_size'] = 512\n",
    "#options['batch_size'] = 32\n",
    "\n",
    "# net print verbosity. Set to zero for this particular notebook, but setting this value to 11 is recommended\n",
    "options['net_verbose'] = 1\n",
    "\n",
    "# post-processing binary threshold. After segmentation, probabilistic masks are binarized using a defined threshold.\n",
    "options['t_bin'] = 0.8\n",
    "\n",
    "# The resulting binary mask is filtered by removing lesion regions with lesion size before a defined value\n",
    "options['l_min'] = 5\n"
   ]
  },
  {
   "cell_type": "code",
   "execution_count": 3,
   "metadata": {},
   "outputs": [],
   "source": [
    "options['test_name'] = 'cnn_' + options['experiment'] + '.nii.gz'"
   ]
  },
  {
   "cell_type": "code",
   "execution_count": 4,
   "metadata": {},
   "outputs": [
    {
     "name": "stdout",
     "output_type": "stream",
     "text": [
      "Model: \"sequential\"\n",
      "_________________________________________________________________\n",
      "Layer (type)                 Output Shape              Param #   \n",
      "=================================================================\n",
      "conv3d (Conv3D)              (None, 11, 11, 11, 32)    2624      \n",
      "_________________________________________________________________\n",
      "batch_normalization (BatchNo (None, 11, 11, 11, 32)    128       \n",
      "_________________________________________________________________\n",
      "max_pooling3d (MaxPooling3D) (None, 5, 5, 5, 32)       0         \n",
      "_________________________________________________________________\n",
      "conv3d_1 (Conv3D)            (None, 5, 5, 5, 64)       55360     \n",
      "_________________________________________________________________\n",
      "batch_normalization_1 (Batch (None, 5, 5, 5, 64)       256       \n",
      "_________________________________________________________________\n",
      "max_pooling3d_1 (MaxPooling3 (None, 2, 2, 2, 64)       0         \n",
      "_________________________________________________________________\n",
      "flatten (Flatten)            (None, 512)               0         \n",
      "_________________________________________________________________\n",
      "dropout (Dropout)            (None, 512)               0         \n",
      "_________________________________________________________________\n",
      "dense (Dense)                (None, 256)               131328    \n",
      "_________________________________________________________________\n",
      "dense_1 (Dense)              (None, 2)                 514       \n",
      "=================================================================\n",
      "Total params: 190,210\n",
      "Trainable params: 190,018\n",
      "Non-trainable params: 192\n",
      "_________________________________________________________________\n",
      "Model: \"sequential_1\"\n",
      "_________________________________________________________________\n",
      "Layer (type)                 Output Shape              Param #   \n",
      "=================================================================\n",
      "conv3d_2 (Conv3D)            (None, 11, 11, 11, 32)    2624      \n",
      "_________________________________________________________________\n",
      "batch_normalization_2 (Batch (None, 11, 11, 11, 32)    128       \n",
      "_________________________________________________________________\n",
      "max_pooling3d_2 (MaxPooling3 (None, 5, 5, 5, 32)       0         \n",
      "_________________________________________________________________\n",
      "conv3d_3 (Conv3D)            (None, 5, 5, 5, 64)       55360     \n",
      "_________________________________________________________________\n",
      "batch_normalization_3 (Batch (None, 5, 5, 5, 64)       256       \n",
      "_________________________________________________________________\n",
      "max_pooling3d_3 (MaxPooling3 (None, 2, 2, 2, 64)       0         \n",
      "_________________________________________________________________\n",
      "flatten_1 (Flatten)          (None, 512)               0         \n",
      "_________________________________________________________________\n",
      "dropout_1 (Dropout)          (None, 512)               0         \n",
      "_________________________________________________________________\n",
      "dense_2 (Dense)              (None, 256)               131328    \n",
      "_________________________________________________________________\n",
      "dense_3 (Dense)              (None, 2)                 514       \n",
      "=================================================================\n",
      "Total params: 190,210\n",
      "Trainable params: 190,018\n",
      "Non-trainable params: 192\n",
      "_________________________________________________________________\n"
     ]
    }
   ],
   "source": [
    "options['weight_paths'] = os.getcwd()\n",
    "model = cascade_model(options)\n",
    "model[0].summary()\n",
    "model[1].summary()"
   ]
  },
  {
   "cell_type": "code",
   "execution_count": 5,
   "metadata": {},
   "outputs": [
    {
     "data": {
      "text/plain": [
       "<tensorflow.python.training.tracking.util.CheckpointLoadStatus at 0x7fabe8298eb8>"
      ]
     },
     "execution_count": 5,
     "metadata": {},
     "output_type": "execute_result"
    }
   ],
   "source": [
    "#Preload model weights\n",
    "checkpoint_path1 = \"models/model1.ckpt\"\n",
    "checkpoint_path2 = \"models/model2.ckpt\"\n",
    "model[0].load_weights(checkpoint_path1)\n",
    "model[1].load_weights(checkpoint_path2)"
   ]
  },
  {
   "cell_type": "code",
   "execution_count": 8,
   "metadata": {},
   "outputs": [
    {
     "name": "stdout",
     "output_type": "stream",
     "text": [
      "Testing subjects10\n",
      "    --> testing the model\n",
      "Testing subjects14\n",
      "    --> testing the model\n",
      "Testing subjects15\n",
      "    --> testing the model\n"
     ]
    }
   ],
   "source": [
    "# TEST X DATA\n",
    "test_vec = [9,13,14]\n",
    "train_folder = '../data/miccai2016/Preprocessed_training_dataset/'\n",
    "test_x_data = {}\n",
    "for i in test_vec:\n",
    "    subj_name = 's' + str(i+1)\n",
    "    print(\"Testing subject\" + subj_name)\n",
    "    test_x_data[subj_name] = {'FLAIR': train_folder + subj_name + '/FLAIR_preprocessed.nii.gz', \n",
    "    #                         'DP': train_folder + subj_name + '/DP_preprocessed.nii.gz',\n",
    "    #                         'GADO': train_folder + subj_name +  '/GADO_preprocessed.nii.gz', \n",
    "                             'T1': train_folder + subj_name +  '/T1_preprocessed.nii.gz',\n",
    "                            'T2': train_folder + subj_name +  '/T2_preprocessed.nii.gz'}\n",
    "    #                              }\n",
    "\n",
    "\n",
    "    options['test_folder'] = train_folder\n",
    "    options['test_scan'] = subj_name\n",
    "    out_seg = test_cascaded_model(model, test_x_data, options)\n",
    "\n",
    "    out_file_name = '../results/' + subj_name + '_output_segmentation.npy'\n",
    "    np.save(out_file_name,out_seg)\n",
    "    test_x_data = {}"
   ]
  },
  {
   "cell_type": "code",
   "execution_count": 7,
   "metadata": {},
   "outputs": [
    {
     "data": {
      "text/plain": [
       "dict_keys(['FLAIR', 'T1', 'T2'])"
      ]
     },
     "execution_count": 7,
     "metadata": {},
     "output_type": "execute_result"
    }
   ],
   "source": []
  },
  {
   "cell_type": "markdown",
   "metadata": {},
   "source": [
    "## Test the model"
   ]
  },
  {
   "cell_type": "code",
   "execution_count": 11,
   "metadata": {},
   "outputs": [
    {
     "name": "stdout",
     "output_type": "stream",
     "text": [
      "(128, 224, 256)\n"
     ]
    },
    {
     "data": {
      "image/png": "[encoded data removed]",
      "text/plain": [
       "<Figure size 432x288 with 1 Axes>"
      ]
     },
     "metadata": {
      "needs_background": "light"
     },
     "output_type": "display_data"
    }
   ],
   "source": [
    "#Load labels\n",
    "n = 50\n",
    "name = \"data/miccai2016_unprocessed/s10/Consensus.nii.gz\"\n",
    "labels = load_nii(name).get_fdata().astype(dtype=np.bool)\n",
    "plt.imshow(labels[n,:,:], cmap='gray')\n",
    "print(labels.shape)"
   ]
  },
  {
   "cell_type": "code",
   "execution_count": 12,
   "metadata": {},
   "outputs": [
    {
     "data": {
      "text/plain": [
       "<matplotlib.image.AxesImage at 0x7fabe045c198>"
      ]
     },
     "execution_count": 12,
     "metadata": {},
     "output_type": "execute_result"
    },
    {
     "data": {
      "image/png": "[encoded data removed]",
      "text/plain": [
       "<Figure size 432x288 with 1 Axes>"
      ]
     },
     "metadata": {
      "needs_background": "light"
     },
     "output_type": "display_data"
    }
   ],
   "source": [
    "#Load the resulting automatic segmentation\n",
    "my_seg = np.load('../results/s10_output_segmentation.npy')\n",
    "plt.imshow(my_seg[n,:,:], cmap='gray')"
   ]
  },
  {
   "cell_type": "code",
   "execution_count": 13,
   "metadata": {},
   "outputs": [
    {
     "data": {
      "text/plain": [
       "0.17705108359133126"
      ]
     },
     "execution_count": 13,
     "metadata": {},
     "output_type": "execute_result"
    }
   ],
   "source": [
    "from metrics import *\n",
    "DSC(my_seg,labels)"
   ]
  },
  {
   "cell_type": "code",
   "execution_count": 14,
   "metadata": {},
   "outputs": [
    {
     "data": {
      "text/plain": [
       "6.834188034188034"
      ]
     },
     "execution_count": 14,
     "metadata": {},
     "output_type": "execute_result"
    }
   ],
   "source": [
    "vol_dif(my_seg,labels)"
   ]
  },
  {
   "cell_type": "code",
   "execution_count": 15,
   "metadata": {},
   "outputs": [
    {
     "data": {
      "text/plain": [
       "0.09982544185031639"
      ]
     },
     "execution_count": 15,
     "metadata": {},
     "output_type": "execute_result"
    }
   ],
   "source": [
    "TPR(my_seg, labels)"
   ]
  },
  {
   "cell_type": "code",
   "execution_count": 16,
   "metadata": {},
   "outputs": [
    {
     "data": {
      "text/plain": [
       "0.782051282051282"
      ]
     },
     "execution_count": 16,
     "metadata": {},
     "output_type": "execute_result"
    }
   ],
   "source": [
    "PPV(my_seg, labels)"
   ]
  },
  {
   "cell_type": "code",
   "execution_count": 17,
   "metadata": {},
   "outputs": [
    {
     "name": "stdout",
     "output_type": "stream",
     "text": [
      "Mean DSC: 0.17224895057789213\n"
     ]
    }
   ],
   "source": [
    "test_ndx = [10, 14, 15]\n",
    "dscs = []\n",
    "vds = []\n",
    "tprs = []\n",
    "ppvs = []\n",
    "\n",
    "for ndx in test_ndx:\n",
    "    name = \"../data/miccai2016/Unprocessed_training_dataset/TrainingDataset_MSSEG/s\" + str(ndx) + \"/Consensus.nii.gz\"\n",
    "    labels = load_nii(name).get_fdata().astype(dtype=np.bool)\n",
    "    my_seg = np.load('../results/s'+ str(ndx) + '_output_segmentation.npy')\n",
    "    dscs.append(DSC(my_seg,labels))\n",
    "    vds.append(vol_dif(my_seg,labels))\n",
    "    tprs.append(TPR(my_seg, labels))\n",
    "    ppvs.append(PPV(my_seg, labels))\n",
    "\n",
    "print(\"Mean DSC: {0}\".format(np.mean(dscs)))"
   ]
  },
  {
   "cell_type": "code",
   "execution_count": 18,
   "metadata": {},
   "outputs": [
    {
     "name": "stdout",
     "output_type": "stream",
     "text": [
      "Mean VD: 30.3708450887265\n",
      "Mean TPR: 0.11482705598916598\n",
      "Mean PPV: 0.7393973408696556\n"
     ]
    }
   ],
   "source": [
    "print(\"Mean VD: {0}\".format(np.mean(vds)))\n",
    "print(\"Mean TPR: {0}\".format(np.mean(tprs)))\n",
    "print(\"Mean PPV: {0}\".format(np.mean(ppvs)))"
   ]
  }
 ],
 "metadata": {
  "kernelspec": {
   "display_name": "Python 3",
   "language": "python",
   "name": "python3"
  },
  "language_info": {
   "codemirror_mode": {
    "name": "ipython",
    "version": 3
   },
   "file_extension": ".py",
   "mimetype": "text/x-python",
   "name": "python",
   "nbconvert_exporter": "python",
   "pygments_lexer": "ipython3",
   "version": "3.5.6"
  }
 },
 "nbformat": 4,
 "nbformat_minor": 4
}
