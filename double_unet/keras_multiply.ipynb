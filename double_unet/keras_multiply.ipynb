{
 "cells": [
  {
   "cell_type": "code",
   "execution_count": 2,
   "id": "determined-ranking",
   "metadata": {},
   "outputs": [],
   "source": [
    "import tensorflow as tf\n",
    "from tensorflow.keras.models import Model\n",
    "from tensorflow.keras.layers import Input, Multiply\n",
    "\n",
    "import numpy as np"
   ]
  },
  {
   "cell_type": "code",
   "execution_count": 3,
   "id": "beneficial-speaking",
   "metadata": {},
   "outputs": [],
   "source": [
    "input_1 = Input(shape=(2,3))\n",
    "mask_1 = Input(shape=(2,1))"
   ]
  },
  {
   "cell_type": "code",
   "execution_count": 4,
   "id": "developmental-cornwall",
   "metadata": {},
   "outputs": [],
   "source": [
    "net = Multiply()([input_1, mask_1])\n",
    "net = Model(inputs=[input_1, mask_1], outputs=net)"
   ]
  },
  {
   "cell_type": "code",
   "execution_count": 5,
   "id": "alpha-savage",
   "metadata": {},
   "outputs": [
    {
     "name": "stdout",
     "output_type": "stream",
     "text": [
      "Model: \"model\"\n",
      "__________________________________________________________________________________________________\n",
      "Layer (type)                    Output Shape         Param #     Connected to                     \n",
      "==================================================================================================\n",
      "input_1 (InputLayer)            [(None, 2, 3)]       0                                            \n",
      "__________________________________________________________________________________________________\n",
      "input_2 (InputLayer)            [(None, 2, 1)]       0                                            \n",
      "__________________________________________________________________________________________________\n",
      "multiply (Multiply)             (None, 2, 3)         0           input_1[0][0]                    \n",
      "                                                                 input_2[0][0]                    \n",
      "==================================================================================================\n",
      "Total params: 0\n",
      "Trainable params: 0\n",
      "Non-trainable params: 0\n",
      "__________________________________________________________________________________________________\n",
      "None\n"
     ]
    }
   ],
   "source": [
    "print(net.summary())"
   ]
  },
  {
   "cell_type": "code",
   "execution_count": 10,
   "id": "employed-sense",
   "metadata": {},
   "outputs": [],
   "source": [
    "arr1 = np.array([1,2,3,4,4,4]).reshape((1,2,3))\n",
    "arr2 = np.array([1,0]).reshape((1,2,1))"
   ]
  },
  {
   "cell_type": "code",
   "execution_count": 11,
   "id": "received-oklahoma",
   "metadata": {},
   "outputs": [
    {
     "name": "stdout",
     "output_type": "stream",
     "text": [
      "[[[1. 2. 3.]\n",
      "  [0. 0. 0.]]]\n"
     ]
    }
   ],
   "source": [
    "print(net.predict([arr1, arr2]))"
   ]
  },
  {
   "cell_type": "markdown",
   "id": "electrical-project",
   "metadata": {},
   "source": [
    "A more complex example, at a certain point in the double_unet we have:\n",
    "```\n",
    "sigmoid60           |  (256)               =>   (256)               0           #!!!!!   \n",
    "mult_10             |  (256, 32, 32)       =>   (256, 32, 32)       0           #!!!!!  \n",
    "```"
   ]
  },
  {
   "cell_type": "code",
   "execution_count": null,
   "id": "charitable-benefit",
   "metadata": {},
   "outputs": [],
   "source": []
  },
  {
   "cell_type": "code",
   "execution_count": 31,
   "id": "underlying-tradition",
   "metadata": {},
   "outputs": [],
   "source": [
    "input_1 = Input(shape=(256,1,1))\n",
    "mask_1 = Input(shape=(256,32,32))"
   ]
  },
  {
   "cell_type": "code",
   "execution_count": 32,
   "id": "piano-confidentiality",
   "metadata": {},
   "outputs": [],
   "source": [
    "net = Multiply()([input_1, mask_1])\n",
    "net = Model(inputs=[input_1, mask_1], outputs=net)"
   ]
  },
  {
   "cell_type": "code",
   "execution_count": 33,
   "id": "cross-monitor",
   "metadata": {},
   "outputs": [
    {
     "name": "stdout",
     "output_type": "stream",
     "text": [
      "Model: \"model_2\"\n",
      "__________________________________________________________________________________________________\n",
      "Layer (type)                    Output Shape         Param #     Connected to                     \n",
      "==================================================================================================\n",
      "input_7 (InputLayer)            [(None, 256, 1, 1)]  0                                            \n",
      "__________________________________________________________________________________________________\n",
      "input_8 (InputLayer)            [(None, 256, 32, 32) 0                                            \n",
      "__________________________________________________________________________________________________\n",
      "multiply_3 (Multiply)           (None, 256, 32, 32)  0           input_7[0][0]                    \n",
      "                                                                 input_8[0][0]                    \n",
      "==================================================================================================\n",
      "Total params: 0\n",
      "Trainable params: 0\n",
      "Non-trainable params: 0\n",
      "__________________________________________________________________________________________________\n",
      "None\n"
     ]
    }
   ],
   "source": [
    "print(net.summary())"
   ]
  },
  {
   "cell_type": "code",
   "execution_count": 38,
   "id": "desirable-engineering",
   "metadata": {},
   "outputs": [],
   "source": [
    "arr1 = np.array([range(256)]).reshape((1,256,1,1))\n",
    "arr2 = np.ones(256*32*32).reshape((1,256,32,32))"
   ]
  },
  {
   "cell_type": "code",
   "execution_count": 37,
   "id": "stunning-sponsorship",
   "metadata": {},
   "outputs": [
    {
     "name": "stdout",
     "output_type": "stream",
     "text": [
      "[[[[  0.   0.   0. ...   0.   0.   0.]\n",
      "   [  0.   0.   0. ...   0.   0.   0.]\n",
      "   [  0.   0.   0. ...   0.   0.   0.]\n",
      "   ...\n",
      "   [  0.   0.   0. ...   0.   0.   0.]\n",
      "   [  0.   0.   0. ...   0.   0.   0.]\n",
      "   [  0.   0.   0. ...   0.   0.   0.]]\n",
      "\n",
      "  [[  1.   1.   1. ...   1.   1.   1.]\n",
      "   [  1.   1.   1. ...   1.   1.   1.]\n",
      "   [  1.   1.   1. ...   1.   1.   1.]\n",
      "   ...\n",
      "   [  1.   1.   1. ...   1.   1.   1.]\n",
      "   [  1.   1.   1. ...   1.   1.   1.]\n",
      "   [  1.   1.   1. ...   1.   1.   1.]]\n",
      "\n",
      "  [[  2.   2.   2. ...   2.   2.   2.]\n",
      "   [  2.   2.   2. ...   2.   2.   2.]\n",
      "   [  2.   2.   2. ...   2.   2.   2.]\n",
      "   ...\n",
      "   [  2.   2.   2. ...   2.   2.   2.]\n",
      "   [  2.   2.   2. ...   2.   2.   2.]\n",
      "   [  2.   2.   2. ...   2.   2.   2.]]\n",
      "\n",
      "  ...\n",
      "\n",
      "  [[253. 253. 253. ... 253. 253. 253.]\n",
      "   [253. 253. 253. ... 253. 253. 253.]\n",
      "   [253. 253. 253. ... 253. 253. 253.]\n",
      "   ...\n",
      "   [253. 253. 253. ... 253. 253. 253.]\n",
      "   [253. 253. 253. ... 253. 253. 253.]\n",
      "   [253. 253. 253. ... 253. 253. 253.]]\n",
      "\n",
      "  [[254. 254. 254. ... 254. 254. 254.]\n",
      "   [254. 254. 254. ... 254. 254. 254.]\n",
      "   [254. 254. 254. ... 254. 254. 254.]\n",
      "   ...\n",
      "   [254. 254. 254. ... 254. 254. 254.]\n",
      "   [254. 254. 254. ... 254. 254. 254.]\n",
      "   [254. 254. 254. ... 254. 254. 254.]]\n",
      "\n",
      "  [[255. 255. 255. ... 255. 255. 255.]\n",
      "   [255. 255. 255. ... 255. 255. 255.]\n",
      "   [255. 255. 255. ... 255. 255. 255.]\n",
      "   ...\n",
      "   [255. 255. 255. ... 255. 255. 255.]\n",
      "   [255. 255. 255. ... 255. 255. 255.]\n",
      "   [255. 255. 255. ... 255. 255. 255.]]]]\n"
     ]
    }
   ],
   "source": [
    "print(net.predict([arr1, arr2]))"
   ]
  },
  {
   "cell_type": "code",
   "execution_count": null,
   "id": "handmade-excellence",
   "metadata": {},
   "outputs": [],
   "source": []
  }
 ],
 "metadata": {
  "kernelspec": {
   "display_name": "Python 3",
   "language": "python",
   "name": "python3"
  },
  "language_info": {
   "codemirror_mode": {
    "name": "ipython",
    "version": 3
   },
   "file_extension": ".py",
   "mimetype": "text/x-python",
   "name": "python",
   "nbconvert_exporter": "python",
   "pygments_lexer": "ipython3",
   "version": "3.8.5"
  }
 },
 "nbformat": 4,
 "nbformat_minor": 5
}
