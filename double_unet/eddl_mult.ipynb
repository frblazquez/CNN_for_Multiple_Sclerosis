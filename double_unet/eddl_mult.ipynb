{
 "cells": [
  {
   "cell_type": "code",
   "execution_count": 1,
   "id": "foster-gathering",
   "metadata": {},
   "outputs": [],
   "source": [
    "import numpy as np\n",
    "\n",
    "import pyeddl.eddl as eddl\n",
    "from pyeddl.tensor import Tensor"
   ]
  },
  {
   "cell_type": "code",
   "execution_count": 2,
   "id": "amazing-mystery",
   "metadata": {},
   "outputs": [],
   "source": [
    "input1 = eddl.Input([256,1,1]) \n",
    "input2 = eddl.Input([256,32,32])"
   ]
  },
  {
   "cell_type": "code",
   "execution_count": null,
   "id": "delayed-police",
   "metadata": {},
   "outputs": [],
   "source": [
    "layer = eddl.Mult(input1, input2)\n",
    "net   = eddl.Model([input1, input2], [layer])"
   ]
  },
  {
   "cell_type": "code",
   "execution_count": null,
   "id": "earned-village",
   "metadata": {},
   "outputs": [],
   "source": [
    "eddl.build(net)"
   ]
  },
  {
   "cell_type": "code",
   "execution_count": null,
   "id": "oriented-irrigation",
   "metadata": {},
   "outputs": [],
   "source": [
    "tensor1 = Tensor.zeros((1,256,1,1))\n",
    "tensor2 = Tensor.ones((1,256,32,32))"
   ]
  },
  {
   "cell_type": "code",
   "execution_count": null,
   "id": "involved-messenger",
   "metadata": {},
   "outputs": [],
   "source": [
    "out = Tensor.ones((1,256,32,32))"
   ]
  },
  {
   "cell_type": "code",
   "execution_count": null,
   "id": "accepting-allocation",
   "metadata": {},
   "outputs": [],
   "source": [
    "eddl.fit(net, [tensor1, tensor2], [out], 1, 1)"
   ]
  },
  {
   "cell_type": "code",
   "execution_count": null,
   "id": "prescription-region",
   "metadata": {},
   "outputs": [],
   "source": []
  },
  {
   "cell_type": "code",
   "execution_count": 19,
   "id": "loving-leeds",
   "metadata": {},
   "outputs": [],
   "source": [
    "array1 = np.ones([1,12,1])\n",
    "array1[:,10:,:] = 0"
   ]
  },
  {
   "cell_type": "code",
   "execution_count": 20,
   "id": "lyric-hebrew",
   "metadata": {},
   "outputs": [],
   "source": [
    "array2 = np.ones([1,12,4])"
   ]
  },
  {
   "cell_type": "code",
   "execution_count": 21,
   "id": "delayed-listing",
   "metadata": {},
   "outputs": [
    {
     "data": {
      "text/plain": [
       "(1, 12, 4)"
      ]
     },
     "execution_count": 21,
     "metadata": {},
     "output_type": "execute_result"
    }
   ],
   "source": [
    "np.multiply(array1, array2).shape"
   ]
  },
  {
   "cell_type": "code",
   "execution_count": 22,
   "id": "trained-electron",
   "metadata": {},
   "outputs": [
    {
     "data": {
      "text/plain": [
       "array([[[1., 1., 1., 1.],\n",
       "        [1., 1., 1., 1.],\n",
       "        [1., 1., 1., 1.],\n",
       "        [1., 1., 1., 1.],\n",
       "        [1., 1., 1., 1.],\n",
       "        [1., 1., 1., 1.],\n",
       "        [1., 1., 1., 1.],\n",
       "        [1., 1., 1., 1.],\n",
       "        [1., 1., 1., 1.],\n",
       "        [1., 1., 1., 1.],\n",
       "        [0., 0., 0., 0.],\n",
       "        [0., 0., 0., 0.]]])"
      ]
     },
     "execution_count": 22,
     "metadata": {},
     "output_type": "execute_result"
    }
   ],
   "source": [
    "np.multiply(array1, array2)"
   ]
  },
  {
   "cell_type": "code",
   "execution_count": null,
   "id": "differential-representation",
   "metadata": {},
   "outputs": [],
   "source": []
  }
 ],
 "metadata": {
  "kernelspec": {
   "display_name": "Python 3",
   "language": "python",
   "name": "python3"
  },
  "language_info": {
   "codemirror_mode": {
    "name": "ipython",
    "version": 3
   },
   "file_extension": ".py",
   "mimetype": "text/x-python",
   "name": "python",
   "nbconvert_exporter": "python",
   "pygments_lexer": "ipython3",
   "version": "3.8.5"
  }
 },
 "nbformat": 4,
 "nbformat_minor": 5
}
