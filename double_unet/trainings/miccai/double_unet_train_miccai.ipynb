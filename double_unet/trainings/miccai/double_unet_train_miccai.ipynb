{
 "cells": [
  {
   "cell_type": "markdown",
   "id": "3df7dbaa",
   "metadata": {},
   "source": [
    "## Double U-Net training for MICCAI 2016 challenge\n",
    "\n",
    "Training and evaluation over the [MICCAI dataset](http://miccai2016.org/) of the Double U-Net model created with PyEDDL library."
   ]
  },
  {
   "cell_type": "markdown",
   "id": "bdb3fe77",
   "metadata": {},
   "source": [
    "**Francisco Javier Blázquez Martínez** \\\n",
    "**francisco.blazquezmartinez@epfl.ch**\n",
    "\n",
    "Double degree in Mathematics-Computer Engineering\n",
    "\n",
    "Complutense University of Madrid, Spain \\\n",
    "École Politechnique Fédérale de Lausanne, Switzerland\n",
    "\n",
    "DeepHealth project"
   ]
  },
  {
   "cell_type": "code",
   "execution_count": 1,
   "id": "998d13b0",
   "metadata": {},
   "outputs": [],
   "source": [
    "import pyeddl.eddl as eddl\n",
    "from pyeddl.tensor import Tensor"
   ]
  },
  {
   "cell_type": "code",
   "execution_count": 2,
   "id": "e1750090",
   "metadata": {},
   "outputs": [],
   "source": [
    "# Set the following variable to the folder containing the MICCAI dataset\n",
    "MICCAI_PATH = \"/home/francisco/Documents/Universidad/5_Carrera/TFG_Computer_Science/datasets/miccai2016/\""
   ]
  },
  {
   "cell_type": "markdown",
   "id": "249738b9",
   "metadata": {},
   "source": [
    "#### MICCAI data extraction"
   ]
  },
  {
   "cell_type": "code",
   "execution_count": null,
   "id": "14f802a8",
   "metadata": {},
   "outputs": [],
   "source": [
    "# TODO: It's required to extract all flair images and all masks (in .nii.gz) "
   ]
  },
  {
   "cell_type": "markdown",
   "id": "4718d830",
   "metadata": {},
   "source": [
    "#### MICCAI data visualization"
   ]
  },
  {
   "cell_type": "code",
   "execution_count": null,
   "id": "f11d0636",
   "metadata": {},
   "outputs": [],
   "source": [
    "import numpy   as np\n",
    "import nibabel as nib\n",
    "import matplotlib.pyplot as plt\n",
    "import random"
   ]
  },
  {
   "cell_type": "code",
   "execution_count": null,
   "id": "65f8faa0",
   "metadata": {},
   "outputs": [],
   "source": [
    "imgs_path = [MICCAI_PATH + 'preprocessed/s'+str(i)+'/FLAIR_preprocessed.nii' for i in range(1,16)]\n",
    "masks_path= [MICCAI_PATH + 'unprocessed/s'+str(i)+'/Consensus.nii'           for i in range(1,16)]"
   ]
  },
  {
   "cell_type": "code",
   "execution_count": null,
   "id": "237b8bd0",
   "metadata": {},
   "outputs": [],
   "source": [
    "fig = plt.figure(figsize=(16, 10))\n",
    "rows = 2\n",
    "columns = 4\n",
    "\n",
    "for i in range(columns):\n",
    "    idx = random.randint(0, len(imgs_path)-1)\n",
    "    \n",
    "    img_np = nib.load(imgs_path[idx] ).get_fdata()\n",
    "    msk_np = nib.load(masks_path[idx]).get_fdata()\n",
    "    \n",
    "    j = random.randint(0, 2)\n",
    "    k = random.randint(0, img_np.shape[j])\n",
    "    \n",
    "    img_2d_np = img_np[:,:,0]\n",
    "    msk_2d_np = msk_np[:,:,0]\n",
    "    \n",
    "    if j == 0:\n",
    "        img_2d_np = img_np[k,:,:]\n",
    "        msk_2d_np = msk_np[k,:,:]\n",
    "    elif j == 1:\n",
    "        img_2d_np = img_np[:,k,:]\n",
    "        msk_2d_np = msk_np[:,k,:]\n",
    "    else:\n",
    "        img_2d_np = img_np[:,:,k]\n",
    "        msk_2d_np = msk_np[:,:,k]    \n",
    "    \n",
    "    fig.add_subplot(rows, columns, i+1)\n",
    "    plt.imshow(img_2d_np)\n",
    "    plt.axis('off')\n",
    "    \n",
    "    fig.add_subplot(rows, columns, i+1+columns)\n",
    "    plt.imshow(msk_2d_np) # set cmap=\"gray\" to display the image in B&W\n",
    "    plt.axis('off')"
   ]
  },
  {
   "cell_type": "markdown",
   "id": "e0ce24fb",
   "metadata": {},
   "source": [
    "#### MICCAI Data Augmentation"
   ]
  },
  {
   "cell_type": "code",
   "execution_count": null,
   "id": "b4cc34ef",
   "metadata": {},
   "outputs": [],
   "source": [
    "# TODO"
   ]
  },
  {
   "cell_type": "markdown",
   "id": "f8f70f35",
   "metadata": {},
   "source": [
    "#### MICCAI Images resizing"
   ]
  },
  {
   "cell_type": "code",
   "execution_count": null,
   "id": "dc53f248",
   "metadata": {},
   "outputs": [],
   "source": [
    "# WARNING! Run only once, new tensor files (.bin) are created in the dataset folder"
   ]
  },
  {
   "cell_type": "code",
   "execution_count": null,
   "id": "4b0de371",
   "metadata": {},
   "outputs": [],
   "source": [
    "import numpy   as np\n",
    "import nibabel as nib\n",
    "import matplotlib.pyplot as plt\n",
    "import skimage.transform as skTrans"
   ]
  },
  {
   "cell_type": "code",
   "execution_count": null,
   "id": "d0550c7e",
   "metadata": {},
   "outputs": [],
   "source": [
    "test_imgs_idx  = [4,9,14]\n",
    "\n",
    "train_imgs_path = [MICCAI_PATH + 'preprocessed/s'+str(i)+'/FLAIR_preprocessed.nii' for i in range(1,16) if i not in test_imgs_idx]\n",
    "train_masks_path= [MICCAI_PATH + 'unprocessed/s'+str(i)+'/Consensus.nii'           for i in range(1,16) if i not in test_imgs_idx]\n",
    "\n",
    "test_imgs_path  = [MICCAI_PATH + 'preprocessed/s'+str(i)+'/FLAIR_preprocessed.nii' for i in test_imgs_idx]\n",
    "test_masks_path = [MICCAI_PATH + 'unprocessed/s'+str(i)+'/Consensus.nii'           for i in test_imgs_idx]"
   ]
  },
  {
   "cell_type": "code",
   "execution_count": null,
   "id": "013d95fd",
   "metadata": {},
   "outputs": [],
   "source": [
    "im = nib.load(train_imgs_path[0]).get_fdata()\n",
    "im_resized = skTrans.resize(im, (256,256,256), order=1, preserve_range=True)"
   ]
  },
  {
   "cell_type": "code",
   "execution_count": null,
   "id": "f1b32f97",
   "metadata": {
    "scrolled": true
   },
   "outputs": [],
   "source": [
    "plt.imshow(im_resized[:,:,150], cmap=\"gray\")"
   ]
  },
  {
   "cell_type": "markdown",
   "id": "153d1913",
   "metadata": {},
   "source": [
    "#### MICCAI Tensors creation"
   ]
  },
  {
   "cell_type": "code",
   "execution_count": null,
   "id": "f361991c",
   "metadata": {},
   "outputs": [],
   "source": [
    "import numpy   as np\n",
    "import nibabel as nib\n",
    "import matplotlib.pyplot as plt\n",
    "import skimage.transform as skTrans"
   ]
  },
  {
   "cell_type": "code",
   "execution_count": null,
   "id": "62de4df3",
   "metadata": {},
   "outputs": [],
   "source": [
    "test_imgs_idx  = [4,9,14]\n",
    "\n",
    "train_imgs_path = [MICCAI_PATH + 'preprocessed/s'+str(i)+'/FLAIR_preprocessed.nii' for i in range(1,16) if i not in test_imgs_idx]\n",
    "train_masks_path= [MICCAI_PATH + 'unprocessed/s'+str(i)+'/Consensus.nii'           for i in range(1,16) if i not in test_imgs_idx]\n",
    "\n",
    "test_imgs_path  = [MICCAI_PATH + 'preprocessed/s'+str(i)+'/FLAIR_preprocessed.nii' for i in test_imgs_idx]\n",
    "test_masks_path = [MICCAI_PATH + 'unprocessed/s'+str(i)+'/Consensus.nii'           for i in test_imgs_idx]"
   ]
  },
  {
   "cell_type": "code",
   "execution_count": null,
   "id": "c62a91d2",
   "metadata": {},
   "outputs": [],
   "source": [
    "train_x = []\n",
    "train_y = []\n",
    "\n",
    "for (img,msk) in zip(train_imgs_path, train_masks_path):\n",
    "    img_np = nib.load(img).get_fdata()\n",
    "    msk_np = nib.load(msk).get_fdata()\n",
    "    \n",
    "    # First we resize the image\n",
    "    img_np = skTrans.resize(img_np, (256,256,256), order=1, preserve_range=True)\n",
    "    msk_np = skTrans.resize(msk_np, (256,256,256), order=1, preserve_range=True)\n",
    "    \n",
    "    # Then we slice the 3D image to several 2D images\n",
    "    for i in range(256):\n",
    "        train_x.append(img_np[:,:,i])\n",
    "        train_y.append(msk_np[:,:,i])\n",
    "        train_x.append(img_np[:,i,:])\n",
    "        train_y.append(msk_np[:,i,:])\n",
    "        train_x.append(img_np[i,:,:])\n",
    "        train_y.append(msk_np[i,:,:])\n",
    "    \n",
    "tensor_x = Tensor.fromarray(train_x)\n",
    "tensor_y = Tensor.fromarray(train_y)\n",
    "\n",
    "tensor_x.save(\"miccai_trX.bin\", \"bin\")\n",
    "tensor_y.save(\"miccai_trY.bin\", \"bin\")"
   ]
  },
  {
   "cell_type": "code",
   "execution_count": null,
   "id": "03778658",
   "metadata": {},
   "outputs": [],
   "source": [
    "test_x = []\n",
    "test_y = []\n",
    "\n",
    "for (img,msk) in zip(test_imgs_path, test_masks_path):\n",
    "    img_np = nib.load(img).get_fdata()\n",
    "    msk_np = nib.load(msk).get_fdata()\n",
    "    \n",
    "    # First we resize the image\n",
    "    img_np = skTrans.resize(img_np, (256,256,256), order=1, preserve_range=True)\n",
    "    msk_np = skTrans.resize(msk_np, (256,256,256), order=1, preserve_range=True)\n",
    "    \n",
    "    # Then we slice the 3D image to several 2D images\n",
    "    for i in range(256):\n",
    "        test_x.append(img_np[:,:,i])\n",
    "        test_y.append(msk_np[:,:,i])\n",
    "        test_x.append(img_np[:,i,:])\n",
    "        test_y.append(msk_np[:,i,:])\n",
    "        test_x.append(img_np[i,:,:])\n",
    "        test_y.append(msk_np[i,:,:])\n",
    "    \n",
    "tensor_x = Tensor.fromarray(test_x)\n",
    "tensor_y = Tensor.fromarray(test_y)\n",
    "\n",
    "tensor_x.save(\"miccai_tsX.bin\", \"bin\")\n",
    "tensor_y.save(\"miccai_tsY.bin\", \"bin\")"
   ]
  },
  {
   "cell_type": "markdown",
   "id": "8d59e5c0",
   "metadata": {},
   "source": [
    "#### MICCAI preprocessed data visualization"
   ]
  },
  {
   "cell_type": "code",
   "execution_count": 3,
   "id": "cd73bcdc",
   "metadata": {},
   "outputs": [],
   "source": [
    "import numpy   as np\n",
    "import matplotlib.pyplot as plt\n",
    "import random"
   ]
  },
  {
   "cell_type": "code",
   "execution_count": null,
   "id": "6563e6a1",
   "metadata": {},
   "outputs": [],
   "source": [
    "tr_x = Tensor.load(MICCAI_PATH + \"bin/miccai_trX.bin\")\n",
    "tr_y = Tensor.load(MICCAI_PATH + \"bin/miccai_trY.bin\")"
   ]
  },
  {
   "cell_type": "code",
   "execution_count": null,
   "id": "a84c4533",
   "metadata": {
    "scrolled": true
   },
   "outputs": [],
   "source": [
    "fig = plt.figure(figsize=(16, 10))\n",
    "rows = 2\n",
    "columns = 4\n",
    "\n",
    "for i in range(columns):\n",
    "    idx = [150, 400, 670, 3000]\n",
    "    \n",
    "    img_np = tr_x.select([str(idx[i])])\n",
    "    msk_np = tr_y.select([str(idx[i])])\n",
    "    \n",
    "    # Remove batches axis (and number of channels for the mask)\n",
    "    img_np.reshape_(img_np.shape[1:])\n",
    "    msk_np.reshape_(msk_np.shape[1:])\n",
    "    \n",
    "    # Prepare to Matplotlib visualization\n",
    "    img_np = img_np.getdata().astype(np.int32).T\n",
    "    msk_np = msk_np.getdata().astype(np.int32).T\n",
    "\n",
    "    # Size check\n",
    "    #print(img_np.shape)\n",
    "    #print(msk_np.shape)\n",
    "\n",
    "    fig.add_subplot(rows, columns, i+1)\n",
    "    plt.imshow(img_np) # set cmap=\"gray\" to display the image in B&W\n",
    "    plt.axis('off')\n",
    "    \n",
    "    fig.add_subplot(rows, columns, i+1+columns)\n",
    "    plt.imshow(msk_np) # set cmap=\"gray\" to display the image in B&W\n",
    "    plt.axis('off')"
   ]
  },
  {
   "cell_type": "code",
   "execution_count": 4,
   "id": "c584dc73",
   "metadata": {},
   "outputs": [],
   "source": [
    "ts_x = Tensor.load(MICCAI_PATH + \"bin/miccai_tsX_preprocessed.bin\")\n",
    "ts_y = Tensor.load(MICCAI_PATH + \"bin/miccai_tsY_preprocessed.bin\")"
   ]
  },
  {
   "cell_type": "code",
   "execution_count": 19,
   "id": "bc65b919",
   "metadata": {
    "scrolled": false
   },
   "outputs": [
    {
     "name": "stdout",
     "output_type": "stream",
     "text": [
      "[1399, 1985, 72, 2067]\n"
     ]
    },
    {
     "data": {
      "image/png": "[encoded data removed]",
      "text/plain": [
       "<Figure size 1152x720 with 8 Axes>"
      ]
     },
     "metadata": {
      "needs_background": "light"
     },
     "output_type": "display_data"
    }
   ],
   "source": [
    "fig = plt.figure(figsize=(16, 10))\n",
    "rows = 2\n",
    "columns = 4\n",
    "\n",
    "#idx = [1191, 1266, 1273, 1975] \n",
    "#idx = [415, 1634, 1252, 1266]\n",
    "\n",
    "idx = [random.randint(0, 2304) for _ in range(columns)]\n",
    "print(idx)\n",
    "\n",
    "for i in range(columns):\n",
    "    img_np = ts_x.select([str(idx[i])])\n",
    "    msk_np = ts_y.select([str(idx[i])])\n",
    "    \n",
    "    # Remove batches axis (and number of channels for the mask)\n",
    "    img_np.reshape_(img_np.shape[1:])\n",
    "    msk_np.reshape_(msk_np.shape[1:])\n",
    "    \n",
    "    # Prepare to Matplotlib visualization\n",
    "    img_np = img_np.getdata().astype(np.int32).T\n",
    "    msk_np = msk_np.getdata().astype(np.int32).T\n",
    "\n",
    "    # Size check\n",
    "    #print(img_np.shape)\n",
    "    #print(msk_np.shape)\n",
    "\n",
    "    fig.add_subplot(rows, columns, i+1)\n",
    "    plt.imshow(img_np, cmap=\"gray\") # set cmap=\"gray\" to display the image in B&W\n",
    "    plt.axis('off')\n",
    "    \n",
    "    fig.add_subplot(rows, columns, i+1+columns)\n",
    "    plt.imshow(msk_np, cmap=\"gray\") # set cmap=\"gray\" to display the image in B&W\n",
    "    plt.axis('off')"
   ]
  },
  {
   "cell_type": "code",
   "execution_count": 20,
   "id": "b25521f0",
   "metadata": {},
   "outputs": [],
   "source": [
    "# Candidates:\n",
    "# 2070\n",
    "# 1236\n",
    "# 1248\n",
    "# 1994\n",
    "# 2011\n",
    "# 1999\n",
    "# 2023\n",
    "# 2154\n",
    "# 1942\n",
    "# 2047\n",
    "# 2064\n",
    "# 1985"
   ]
  },
  {
   "cell_type": "code",
   "execution_count": null,
   "id": "312281a1",
   "metadata": {},
   "outputs": [],
   "source": [
    "# To be used:\n",
    "# 1191\n",
    "# 1266\n",
    "# 1273\n",
    "# 1975\n",
    "# 1252\n",
    "\n",
    "# 415\n",
    "# 1634"
   ]
  },
  {
   "cell_type": "markdown",
   "id": "e2af0a23",
   "metadata": {},
   "source": [
    "#### Save images and masks"
   ]
  },
  {
   "cell_type": "code",
   "execution_count": 3,
   "id": "3f0d248f",
   "metadata": {},
   "outputs": [],
   "source": [
    "from PIL import Image\n",
    "import matplotlib.pyplot as plt\n",
    "import numpy   as np"
   ]
  },
  {
   "cell_type": "code",
   "execution_count": 4,
   "id": "72f70739",
   "metadata": {},
   "outputs": [],
   "source": [
    "ts_x = Tensor.load(MICCAI_PATH + \"bin/miccai_tsX_preprocessed.bin\")\n",
    "ts_y = Tensor.load(MICCAI_PATH + \"bin/miccai_tsY_preprocessed.bin\")"
   ]
  },
  {
   "cell_type": "code",
   "execution_count": null,
   "id": "f85044c4",
   "metadata": {},
   "outputs": [],
   "source": []
  },
  {
   "cell_type": "code",
   "execution_count": 5,
   "id": "9b64f595",
   "metadata": {},
   "outputs": [],
   "source": [
    "i = 1985"
   ]
  },
  {
   "cell_type": "code",
   "execution_count": 6,
   "id": "be911c37",
   "metadata": {},
   "outputs": [],
   "source": [
    "img_tensor = ts_x.select([str(i)])\n",
    "msk_tensor = ts_y.select([str(i)])"
   ]
  },
  {
   "cell_type": "code",
   "execution_count": 7,
   "id": "dff4d1c5",
   "metadata": {},
   "outputs": [],
   "source": [
    "msk_tensor.mult_(255)"
   ]
  },
  {
   "cell_type": "code",
   "execution_count": 8,
   "id": "ddf59958",
   "metadata": {},
   "outputs": [],
   "source": [
    "img_tensor.reshape_(img_tensor.shape[1:])\n",
    "msk_tensor.reshape_(msk_tensor.shape[1:])"
   ]
  },
  {
   "cell_type": "code",
   "execution_count": 9,
   "id": "9f53c078",
   "metadata": {},
   "outputs": [],
   "source": [
    "img_tensor.save(\"aux_img.jpg\")\n",
    "msk_tensor.save(\"aux_msk.jpg\")"
   ]
  },
  {
   "cell_type": "code",
   "execution_count": 10,
   "id": "26f6c8b4",
   "metadata": {},
   "outputs": [],
   "source": [
    "img_tensor.save(\"auxr_img.png\")\n",
    "msk_tensor.save(\"auxr_msk.png\")"
   ]
  },
  {
   "cell_type": "code",
   "execution_count": 11,
   "id": "fe48bdea",
   "metadata": {},
   "outputs": [],
   "source": [
    "img_np = img_tensor.getdata()[0]\n",
    "msk_np = msk_tensor.getdata()[0]"
   ]
  },
  {
   "cell_type": "code",
   "execution_count": 16,
   "id": "ea430aa9",
   "metadata": {
    "scrolled": true
   },
   "outputs": [
    {
     "data": {
      "image/png": "[encoded data removed]",
      "text/plain": [
       "<Figure size 432x288 with 1 Axes>"
      ]
     },
     "metadata": {
      "needs_background": "light"
     },
     "output_type": "display_data"
    }
   ],
   "source": [
    "plt.imshow(img_np, cmap=\"gray\")\n",
    "plt.savefig('aux_img_np.jpg')"
   ]
  },
  {
   "cell_type": "code",
   "execution_count": 15,
   "id": "64ef6ab3",
   "metadata": {},
   "outputs": [
    {
     "data": {
      "image/png": "[encoded data removed]",
      "text/plain": [
       "<Figure size 432x288 with 1 Axes>"
      ]
     },
     "metadata": {
      "needs_background": "light"
     },
     "output_type": "display_data"
    }
   ],
   "source": [
    "plt.imshow(msk_np, cmap=\"gray\")\n",
    "plt.savefig('aux_mask_np.png')"
   ]
  },
  {
   "cell_type": "code",
   "execution_count": 23,
   "id": "4b8ff64c",
   "metadata": {},
   "outputs": [
    {
     "data": {
      "image/png": "[encoded data removed]",
      "text/plain": [
       "<Figure size 432x288 with 1 Axes>"
      ]
     },
     "metadata": {
      "needs_background": "light"
     },
     "output_type": "display_data"
    }
   ],
   "source": [
    "idxs = [415, 1634, 1252, 1266, 1191, 1273, 1975]\n",
    "\n",
    "for i in idxs:\n",
    "    img_np = ts_x.select([str(i)])\n",
    "    msk_np = ts_y.select([str(i)])\n",
    "    msk_np.mult_(255.0)\n",
    "    \n",
    "    # Prepare to Matplotlib visualization\n",
    "    img_np = img_np.getdata()[0]\n",
    "    msk_np = msk_np.getdata()[0]\n",
    "    \n",
    "    plt.imshow(img_np, cmap=\"gray\")\n",
    "    plt.savefig('ts'+str(i)+'_img.jpg')\n",
    "    plt.imshow(msk_np, cmap=\"gray\")\n",
    "    plt.savefig('ts'+str(i)+'_msk.jpg')"
   ]
  },
  {
   "cell_type": "markdown",
   "id": "214dbed9",
   "metadata": {},
   "source": [
    "#### U-Net model train"
   ]
  },
  {
   "cell_type": "code",
   "execution_count": null,
   "id": "c3e5fde7",
   "metadata": {},
   "outputs": [],
   "source": [
    "# WARNING! Heavy computation, run preferably on the server!"
   ]
  },
  {
   "cell_type": "code",
   "execution_count": null,
   "id": "b0179a5d",
   "metadata": {},
   "outputs": [],
   "source": [
    "from unet import unet"
   ]
  },
  {
   "cell_type": "code",
   "execution_count": null,
   "id": "17ff835a",
   "metadata": {},
   "outputs": [],
   "source": [
    "EPOCHS        = 10\n",
    "BATCH_SIZE    = 8\n",
    "NUM_BATCHES   = 50\n",
    "GPU           = True\n",
    "MEM           = \"full_mem\"\n",
    "LOSS_FUNCTION = \"mse\"\n",
    "METRICS       = \"mse\"\n",
    "LEARNING_RATE = 0.00001"
   ]
  },
  {
   "cell_type": "code",
   "execution_count": null,
   "id": "efebbcbd",
   "metadata": {},
   "outputs": [],
   "source": [
    "in_ = eddl.Input([1, 256, 256])\n",
    "net = unet(in_)\n",
    "\n",
    "# TODO: Should we return the model created or the output layer?\n",
    "#out = unet(in_) \n",
    "#net = eddl.Model([in_], [out])\n",
    "\n",
    "eddl.build(\n",
    "    net,\n",
    "    eddl.adam(LEARNING_RATE),  # Optimizer\n",
    "    [LOSS_FUNCTION],           # Losses\n",
    "    [METRICS],                 # Metrics\n",
    "    eddl.CS_GPU(mem=MEM) if GPU else eddl.CS_CPU(mem=MEM)\n",
    ")\n",
    "\n",
    "eddl.summary(net)"
   ]
  },
  {
   "cell_type": "code",
   "execution_count": null,
   "id": "596e630d",
   "metadata": {},
   "outputs": [],
   "source": [
    "x_train = Tensor.load(MICCAI_PATH+\"miccai_trX_preprocessed.bin\")\n",
    "x_train.div_(255.0)\n",
    "x_train.info()\n",
    "\n",
    "y_train = Tensor.load(MICCAI_PATH+\"miccai_trY_preprocessed.bin\")\n",
    "y_train.div_(255.0)\n",
    "y_train.info()\n",
    "\n",
    "xbatch = Tensor([BATCH_SIZE, 1, 256, 256])\n",
    "ybatch = Tensor([BATCH_SIZE, 1, 256, 256])"
   ]
  },
  {
   "cell_type": "code",
   "execution_count": null,
   "id": "0538bdb9",
   "metadata": {},
   "outputs": [],
   "source": [
    "for i in range(EPOCHS):\n",
    "    print(\"\\nEpoch %d/%d\" % (i + 1, EPOCHS))\n",
    "    eddl.reset_loss(net)\n",
    "    for j in range(NUM_BATCHES):\n",
    "        eddl.next_batch([x_train, y_train], [xbatch, ybatch])\n",
    "        eddl.train_batch(net, [xbatch_da], [ybatch_da])\n",
    "        eddl.print_loss(net, j)"
   ]
  },
  {
   "cell_type": "markdown",
   "id": "c69c3565",
   "metadata": {},
   "source": [
    "#### U-Net model save"
   ]
  },
  {
   "cell_type": "code",
   "execution_count": null,
   "id": "6da23532",
   "metadata": {},
   "outputs": [],
   "source": [
    "eddl.save(\"models/unet_miccai.bin\")"
   ]
  },
  {
   "cell_type": "markdown",
   "id": "ce7d71bd",
   "metadata": {},
   "source": [
    "#### U-Net model load"
   ]
  },
  {
   "cell_type": "code",
   "execution_count": null,
   "id": "8893a760",
   "metadata": {},
   "outputs": [],
   "source": [
    "from unet import unet"
   ]
  },
  {
   "cell_type": "code",
   "execution_count": null,
   "id": "cb19d0d5",
   "metadata": {},
   "outputs": [],
   "source": [
    "GPU           = True\n",
    "MEM           = \"full_mem\"\n",
    "LOSS_FUNCTION = \"mse\"\n",
    "METRICS       = \"mse\"\n",
    "LEARNING_RATE = 0.00001"
   ]
  },
  {
   "cell_type": "code",
   "execution_count": null,
   "id": "5ce1c60b",
   "metadata": {},
   "outputs": [],
   "source": [
    "in_ = eddl.Input([1, 256, 256])\n",
    "net = unet(in_)\n",
    "\n",
    "# TODO: Should we return the model created or the output layer?\n",
    "#out = unet(in_) \n",
    "#net = eddl.Model([in_], [out])\n",
    "\n",
    "eddl.build(\n",
    "    net,\n",
    "    eddl.adam(LEARNING_RATE),  # Optimizer\n",
    "    [LOSS_FUNCTION],           # Losses\n",
    "    [METRICS],                 # Metrics\n",
    "    eddl.CS_GPU(mem=MEM) if GPU else eddl.CS_CPU(mem=MEM)\n",
    ")\n",
    "\n",
    "eddl.summary(net)"
   ]
  },
  {
   "cell_type": "code",
   "execution_count": null,
   "id": "e6eaa788",
   "metadata": {},
   "outputs": [],
   "source": [
    "eddl.load(net, \"models/unet_miccai.bin\")"
   ]
  },
  {
   "cell_type": "markdown",
   "id": "e98c2bbc",
   "metadata": {},
   "source": [
    "#### U-Net model visual analysis"
   ]
  },
  {
   "cell_type": "code",
   "execution_count": null,
   "id": "ea21b4c7",
   "metadata": {},
   "outputs": [],
   "source": [
    "import numpy   as np\n",
    "import matplotlib.pyplot as plt\n",
    "import random"
   ]
  },
  {
   "cell_type": "code",
   "execution_count": null,
   "id": "416439b5",
   "metadata": {},
   "outputs": [],
   "source": [
    "tensor_x = Tensor.load(MICCAI_PATH + \"miccai_trX_preprocessed.bin\")\n",
    "tensor_y = Tensor.load(MICCAI_PATH + \"miccai_trY_preprocessed.bin\")"
   ]
  },
  {
   "cell_type": "code",
   "execution_count": null,
   "id": "c55cd055",
   "metadata": {},
   "outputs": [],
   "source": [
    "fig = plt.figure(figsize=(24, 10))\n",
    "rows = 3\n",
    "columns = 6\n",
    "\n",
    "for i in range(columns):\n",
    "    idx = random.randint(0, tensor_x.shape[1])\n",
    "    \n",
    "    img_np = tensor_x.select([str(i)])\n",
    "    msk_np = tensor_y.select([str(i)])\n",
    "    \n",
    "    # Remove batches axis (and number of channels for the mask)\n",
    "    img_np.reshape_(img_np.shape[1:])\n",
    "    msk_np.reshape_(msk_np.shape[2:])\n",
    "    \n",
    "    # Prepare to Matplotlib visualization\n",
    "    img_np = img_np.getdata().astype(np.int32).T\n",
    "    msk_np = msk_np.getdata().astype(np.int32).T\n",
    "\n",
    "    # Size check\n",
    "    #print(img0_np.shape)\n",
    "    #print(msk0_np.shape)\n",
    "\n",
    "    fig.add_subplot(rows, columns, i+1)\n",
    "    plt.imshow(img_np)\n",
    "    plt.axis('off')\n",
    "    \n",
    "    fig.add_subplot(rows, columns, i+1+columns)\n",
    "    plt.imshow(msk_np) # set cmap=\"gray\" to display the image in B&W\n",
    "    plt.axis('off')\n",
    "    \n",
    "    # TODO: Here we should take the mask that our model gives!\n",
    "    fig.add_subplot(rows, columns, i+1+columns*2)\n",
    "    plt.imshow(msk_np) # set cmap=\"gray\" to display the image in B&W\n",
    "    plt.axis('off')"
   ]
  },
  {
   "cell_type": "markdown",
   "id": "18ec4736",
   "metadata": {},
   "source": [
    "#### U-Net model evaluation"
   ]
  },
  {
   "cell_type": "code",
   "execution_count": null,
   "id": "2786bc50",
   "metadata": {},
   "outputs": [],
   "source": [
    "# TODO: Keep some images out of the train set for evaluation!"
   ]
  },
  {
   "cell_type": "markdown",
   "id": "efd1f21b",
   "metadata": {},
   "source": [
    "#### References:\n"
   ]
  },
  {
   "cell_type": "code",
   "execution_count": null,
   "id": "3bf061f5",
   "metadata": {},
   "outputs": [],
   "source": []
  }
 ],
 "metadata": {
  "kernelspec": {
   "display_name": "Python 3",
   "language": "python",
   "name": "python3"
  },
  "language_info": {
   "codemirror_mode": {
    "name": "ipython",
    "version": 3
   },
   "file_extension": ".py",
   "mimetype": "text/x-python",
   "name": "python",
   "nbconvert_exporter": "python",
   "pygments_lexer": "ipython3",
   "version": "3.8.8"
  }
 },
 "nbformat": 4,
 "nbformat_minor": 5
}
