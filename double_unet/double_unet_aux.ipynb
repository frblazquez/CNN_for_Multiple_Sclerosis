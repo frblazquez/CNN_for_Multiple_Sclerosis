{
 "cells": [
  {
   "cell_type": "markdown",
   "metadata": {},
   "source": [
    "## U-Net training for image segmentation"
   ]
  },
  {
   "cell_type": "markdown",
   "metadata": {},
   "source": [
    "**==============================================================================================================**\n",
    "### ISBI Dataset\n",
    "**==============================================================================================================**"
   ]
  },
  {
   "cell_type": "code",
   "execution_count": null,
   "metadata": {},
   "outputs": [],
   "source": [
    "import pyeddl.eddl as eddl\n",
    "from pyeddl.tensor import Tensor"
   ]
  },
  {
   "cell_type": "markdown",
   "metadata": {},
   "source": [
    "#### Load data"
   ]
  },
  {
   "cell_type": "code",
   "execution_count": null,
   "metadata": {},
   "outputs": [],
   "source": [
    "ISBI_PATH = '/home/francisco/Documents/Universidad/5_Carrera/TFG_Computer_Science/datasets/isbi/'"
   ]
  },
  {
   "cell_type": "code",
   "execution_count": null,
   "metadata": {},
   "outputs": [],
   "source": [
    "imgs_path = [ISBI_PATH + 'train/image_lq/'+str(i)+'.png' for i in range(30)]\n",
    "masks_path= [ISBI_PATH + 'train/label_lq/'+str(i)+'.png' for i in range(30)]"
   ]
  },
  {
   "cell_type": "code",
   "execution_count": null,
   "metadata": {},
   "outputs": [],
   "source": [
    "train_imgs = Tensor.fromarray([Tensor.load(img).getdata()          for img in imgs_path])\n",
    "train_masks= Tensor.fromarray([Tensor.load(msk).div(255).getdata() for msk in masks_path])"
   ]
  },
  {
   "cell_type": "markdown",
   "metadata": {},
   "source": [
    "#### Create model"
   ]
  },
  {
   "cell_type": "code",
   "execution_count": null,
   "metadata": {},
   "outputs": [],
   "source": [
    "from unet import unet"
   ]
  },
  {
   "cell_type": "code",
   "execution_count": null,
   "metadata": {},
   "outputs": [],
   "source": [
    "# RuntimeError: Error allocating 288.00MB in ConvolDescriptor::build\n",
    "#\n",
    "# Solution 1:   https://stackoverflow.com/questions/57948003/how-to-increase-jupyter-notebook-memory-limit\n",
    "# Solution 2:   Reduce image quality and shape to 256x256\n",
    "net = unet(eddl.Input([1, 256, 256]))"
   ]
  },
  {
   "cell_type": "code",
   "execution_count": null,
   "metadata": {},
   "outputs": [],
   "source": [
    "# Model build\n",
    "eddl.build(\n",
    "    net,\n",
    "    eddl.nadam(lr=0.001, beta_1=0.9, beta_2=0.999, epsilon=1e-07, schedule_decay=0.004), \n",
    "    [\"binary_cross_entropy\"],\n",
    "    [\"dice\"],\n",
    "    eddl.CS_CPU(mem=\"low_mem\")\n",
    ")"
   ]
  },
  {
   "cell_type": "code",
   "execution_count": null,
   "metadata": {},
   "outputs": [],
   "source": [
    "eddl.setlogfile(net, \"unet.log\")\n",
    "eddl.summary(net)"
   ]
  },
  {
   "cell_type": "code",
   "execution_count": null,
   "metadata": {
    "scrolled": true
   },
   "outputs": [],
   "source": [
    "# Kernel dies when trying to execute this\n",
    "# - Option 1: Lack of power of my computer\n",
    "# - Option 2: Error in the model\n",
    "#\n",
    "# - Solution: Move code to .py and run both in the computer and the server\n",
    "eddl.fit(net, [train_imgs], [train_masks], 2, 5)"
   ]
  },
  {
   "cell_type": "markdown",
   "metadata": {},
   "source": [
    "**===============================================================================================================**"
   ]
  },
  {
   "cell_type": "markdown",
   "metadata": {},
   "source": [
    "#### Data preprocessing"
   ]
  },
  {
   "cell_type": "markdown",
   "metadata": {},
   "source": [
    "Dealing with 512$\\times$512 images requires too much memory for creating and training our model. In this first part, we are reducing image size to 256$\\times$256"
   ]
  },
  {
   "cell_type": "code",
   "execution_count": null,
   "metadata": {
    "scrolled": true
   },
   "outputs": [],
   "source": [
    "from PIL import Image, ImageDraw"
   ]
  },
  {
   "cell_type": "code",
   "execution_count": null,
   "metadata": {},
   "outputs": [],
   "source": [
    "ISBI_PATH = '/home/francisco/Documents/Universidad/5_Carrera/TFG_Computer_Science/datasets/isbi/'"
   ]
  },
  {
   "cell_type": "code",
   "execution_count": null,
   "metadata": {},
   "outputs": [],
   "source": [
    "train_imgs = [ISBI_PATH + 'train/image/'+str(i)+'.png' for i in range(30)]\n",
    "train_masks= [ISBI_PATH + 'train/label/'+str(i)+'.png' for i in range(30)]"
   ]
  },
  {
   "cell_type": "code",
   "execution_count": null,
   "metadata": {},
   "outputs": [],
   "source": [
    "for i in range(30):\n",
    "    image_input  = ISBI_PATH + 'train/image/'     + str(i) + '.png'\n",
    "    mask_input   = ISBI_PATH + 'train/label/'     + str(i) + '.png'\n",
    "    image_output = ISBI_PATH + 'train/image_lq/' + str(i) + '.png'\n",
    "    mask_output  = ISBI_PATH + 'train/label_lq/' + str(i) + '.png'\n",
    "    \n",
    "    img = Image.open(image_input)\n",
    "    msk = Image.open(mask_input)\n",
    "    \n",
    "    img = img.resize((img.size[0]//2, img.size[1]//2))\n",
    "    msk = msk.resize((msk.size[0]//2, msk.size[1]//2))\n",
    "    \n",
    "    img = img.save(image_output)\n",
    "    msk = msk.save(mask_output)"
   ]
  },
  {
   "cell_type": "markdown",
   "metadata": {},
   "source": [
    "#### Load data (attempt 1)"
   ]
  },
  {
   "cell_type": "code",
   "execution_count": null,
   "metadata": {},
   "outputs": [],
   "source": [
    "ISBI_PATH = '/home/francisco/Documents/Universidad/5_Carrera/TFG_Computer_Science/datasets/isbi/'"
   ]
  },
  {
   "cell_type": "code",
   "execution_count": null,
   "metadata": {},
   "outputs": [],
   "source": [
    "train_imgs = [ISBI_PATH + 'train/image_lq/'+str(i)+'.png' for i in range(30)]\n",
    "train_masks= [ISBI_PATH + 'train/label_lq/'+str(i)+'.png' for i in range(30)]"
   ]
  },
  {
   "cell_type": "code",
   "execution_count": null,
   "metadata": {},
   "outputs": [],
   "source": [
    "# Tensor.load(train_imgs[7])\n",
    "# Tensor.load(train_masks[2])"
   ]
  },
  {
   "cell_type": "code",
   "execution_count": null,
   "metadata": {},
   "outputs": [],
   "source": [
    "train_data  = [Tensor.load(img)            for img in train_imgs ] \n",
    "train_masks = [Tensor.load(msk).div(255.0) for msk in train_masks]"
   ]
  },
  {
   "cell_type": "code",
   "execution_count": null,
   "metadata": {},
   "outputs": [],
   "source": [
    "# Tensor.getdata(train_data[0])\n",
    "# Tensor.getdata(train_masks[0])"
   ]
  },
  {
   "cell_type": "markdown",
   "metadata": {},
   "source": [
    "#### Load data (attempt 2)"
   ]
  },
  {
   "cell_type": "code",
   "execution_count": null,
   "metadata": {},
   "outputs": [],
   "source": [
    "ISBI_PATH = '/home/francisco/Documents/Universidad/5_Carrera/TFG_Computer_Science/datasets/isbi/'"
   ]
  },
  {
   "cell_type": "code",
   "execution_count": null,
   "metadata": {},
   "outputs": [],
   "source": [
    "train_imgs = [ISBI_PATH + 'train/image_lq/'+str(i)+'.png' for i in range(30)]\n",
    "train_masks= [ISBI_PATH + 'train/label_lq/'+str(i)+'.png' for i in range(30)]"
   ]
  },
  {
   "cell_type": "code",
   "execution_count": null,
   "metadata": {},
   "outputs": [],
   "source": [
    "imgs_nparray = [Tensor.load(img).getdata()            for img in train_imgs]\n",
    "masks_nparray= [Tensor.load(msk).div(255.0).getdata() for msk in train_masks]"
   ]
  },
  {
   "cell_type": "code",
   "execution_count": null,
   "metadata": {},
   "outputs": [],
   "source": [
    "train_data = Tensor.fromarray(imgs_nparray)\n",
    "train_masks= Tensor.fromarray(masks_nparray)"
   ]
  },
  {
   "cell_type": "markdown",
   "metadata": {},
   "source": [
    "**==============================================================================================================**\n",
    "### MICCAI2016 Dataset\n",
    "**==============================================================================================================**"
   ]
  },
  {
   "cell_type": "code",
   "execution_count": 1,
   "metadata": {},
   "outputs": [],
   "source": [
    "import pyeddl.eddl as eddl\n",
    "from pyeddl.tensor import Tensor"
   ]
  },
  {
   "cell_type": "code",
   "execution_count": 2,
   "metadata": {},
   "outputs": [],
   "source": [
    "import numpy   as np\n",
    "import nibabel as nib\n",
    "import matplotlib.pyplot as plt"
   ]
  },
  {
   "cell_type": "markdown",
   "metadata": {},
   "source": [
    "#### Load data"
   ]
  },
  {
   "cell_type": "code",
   "execution_count": 3,
   "metadata": {},
   "outputs": [],
   "source": [
    "MICCAI_PATH = '/home/francisco/Documents/Universidad/5_Carrera/TFG_Computer_Science/datasets/miccai2016/'"
   ]
  },
  {
   "cell_type": "code",
   "execution_count": 4,
   "metadata": {},
   "outputs": [],
   "source": [
    "imgs_path = [MICCAI_PATH + 'preprocessed/s'+str(i)+'/FLAIR_preprocessed.nii' for i in range(1,13)]\n",
    "masks_path= [MICCAI_PATH + 'unprocessed/s'+str(i)+'/Consensus.nii'           for i in range(1,13)]"
   ]
  },
  {
   "cell_type": "code",
   "execution_count": null,
   "metadata": {},
   "outputs": [],
   "source": [
    "imgs_np = [np.array(nib.load(img).get_fdata()[:,:,300]) for img in imgs_path]\n",
    "msks_np = [np.array(nib.load(msk).get_fdata()[:,:,300]) for msk in masks_path]\n",
    "msks_np = [msk/msk.max() for msk in msks_np]"
   ]
  },
  {
   "cell_type": "code",
   "execution_count": null,
   "metadata": {},
   "outputs": [],
   "source": [
    "train_imgs = Tensor.fromarray(imgs_np)\n",
    "train_masks= Tensor.fromarray(msks_np)"
   ]
  },
  {
   "cell_type": "markdown",
   "metadata": {},
   "source": [
    "**===============================================================================================================**"
   ]
  },
  {
   "cell_type": "markdown",
   "metadata": {},
   "source": [
    "#### Some dataset exploration, [Ref](https://dev.to/narendraanupoju/mri-data-processing-with-python-1jgg)"
   ]
  },
  {
   "cell_type": "code",
   "execution_count": 6,
   "metadata": {
    "scrolled": true
   },
   "outputs": [
    {
     "data": {
      "text/plain": [
       "(144, 512, 512)"
      ]
     },
     "execution_count": 6,
     "metadata": {},
     "output_type": "execute_result"
    }
   ],
   "source": [
    "data = nib.load(imgs_path[0])\n",
    "image_data = data.get_fdata()\n",
    "image_data.shape"
   ]
  },
  {
   "cell_type": "code",
   "execution_count": 20,
   "metadata": {},
   "outputs": [
    {
     "data": {
      "text/plain": [
       "<matplotlib.image.AxesImage at 0x7f0975966970>"
      ]
     },
     "execution_count": 20,
     "metadata": {},
     "output_type": "execute_result"
    },
    {
     "data": {
      "image/png": "[encoded data removed]",
      "text/plain": [
       "<Figure size 432x288 with 1 Axes>"
      ]
     },
     "metadata": {
      "needs_background": "light"
     },
     "output_type": "display_data"
    }
   ],
   "source": [
    "plt.imshow(image_data[:,:,300], cmap=\"gray\")"
   ]
  },
  {
   "cell_type": "code",
   "execution_count": 11,
   "metadata": {},
   "outputs": [
    {
     "data": {
      "text/plain": [
       "(144, 512, 512)"
      ]
     },
     "execution_count": 11,
     "metadata": {},
     "output_type": "execute_result"
    }
   ],
   "source": [
    "mask = nib.load(masks_path[0])\n",
    "mask_data = mask.get_fdata()\n",
    "mask_data.shape"
   ]
  },
  {
   "cell_type": "code",
   "execution_count": 14,
   "metadata": {},
   "outputs": [
    {
     "data": {
      "text/plain": [
       "<matplotlib.image.AxesImage at 0x7f0975b73250>"
      ]
     },
     "execution_count": 14,
     "metadata": {},
     "output_type": "execute_result"
    },
    {
     "data": {
      "image/png": "[encoded data removed]",
      "text/plain": [
       "<Figure size 432x288 with 1 Axes>"
      ]
     },
     "metadata": {
      "needs_background": "light"
     },
     "output_type": "display_data"
    }
   ],
   "source": [
    "plt.imshow(mask_data[:,:,320], cmap=\"gray\")"
   ]
  },
  {
   "cell_type": "code",
   "execution_count": null,
   "metadata": {},
   "outputs": [],
   "source": []
  },
  {
   "cell_type": "code",
   "execution_count": null,
   "metadata": {},
   "outputs": [],
   "source": []
  },
  {
   "cell_type": "code",
   "execution_count": null,
   "metadata": {},
   "outputs": [],
   "source": [
    "data = nib.load(imgs_path[0])\n",
    "image_data = data.get_fdata()\n",
    "image_data.shape"
   ]
  },
  {
   "cell_type": "code",
   "execution_count": null,
   "metadata": {},
   "outputs": [],
   "source": [
    "plt.imshow(image_data[70,:,:], cmap=\"gray\")"
   ]
  },
  {
   "cell_type": "code",
   "execution_count": null,
   "metadata": {},
   "outputs": [],
   "source": [
    "plt.imshow(image_data[80,:,:], cmap=\"gray\")"
   ]
  },
  {
   "cell_type": "code",
   "execution_count": null,
   "metadata": {},
   "outputs": [],
   "source": [
    "plt.imshow(image_data[90,:,:], cmap=\"gray\")"
   ]
  },
  {
   "cell_type": "code",
   "execution_count": null,
   "metadata": {},
   "outputs": [],
   "source": [
    "plt.imshow(mask_data[90,:,:], cmap=\"gray\")"
   ]
  },
  {
   "cell_type": "code",
   "execution_count": null,
   "metadata": {},
   "outputs": [],
   "source": []
  },
  {
   "cell_type": "code",
   "execution_count": null,
   "metadata": {},
   "outputs": [],
   "source": []
  },
  {
   "cell_type": "code",
   "execution_count": null,
   "metadata": {},
   "outputs": [],
   "source": [
    "data = nib.load(imgs_path[0])\n",
    "mask = nib.load(masks_path[0])"
   ]
  },
  {
   "cell_type": "code",
   "execution_count": null,
   "metadata": {},
   "outputs": [],
   "source": [
    "mask.get_fdata().shape"
   ]
  },
  {
   "cell_type": "markdown",
   "metadata": {},
   "source": [
    "#### Slice data and save binary (attempt 1)"
   ]
  },
  {
   "cell_type": "code",
   "execution_count": 2,
   "metadata": {},
   "outputs": [],
   "source": [
    "MICCAI_PATH = '/home/francisco/Documents/Universidad/5_Carrera/TFG_Computer_Science/datasets/miccai2016/'"
   ]
  },
  {
   "cell_type": "code",
   "execution_count": 23,
   "metadata": {},
   "outputs": [],
   "source": [
    "train_imgs_path = [MICCAI_PATH + 'preprocessed/s'+str(i)+'/FLAIR_preprocessed.nii' for i in range(1,13)]\n",
    "train_masks_path= [MICCAI_PATH + 'unprocessed/s'+str(i)+'/Consensus.nii'           for i in range(1,13)]"
   ]
  },
  {
   "cell_type": "code",
   "execution_count": 4,
   "metadata": {},
   "outputs": [],
   "source": [
    "test_imgs_path = [MICCAI_PATH + 'preprocessed/s'+str(i)+'/FLAIR_preprocessed.nii' for i in range(13,16)]\n",
    "test_masks_path= [MICCAI_PATH + 'unprocessed/s'+str(i)+'/Consensus.nii'           for i in range(13,16)]"
   ]
  },
  {
   "cell_type": "code",
   "execution_count": 20,
   "metadata": {},
   "outputs": [],
   "source": [
    "#img = nib.load(train_imgs_path[0])\n",
    "#img_array = np.array(img.dataobj)\n",
    "#img_array[:,:,300].shape"
   ]
  },
  {
   "cell_type": "code",
   "execution_count": 26,
   "metadata": {
    "scrolled": true
   },
   "outputs": [],
   "source": [
    "# No funciona porque tienen diferente dimensión!\n",
    "#train_imgs_np = [np.array(nib.load(img).dataobj)[:,:,300] for img in train_imgs_path]\n",
    "#train_msks_np = [np.array(nib.load(msk).dataobj)[:,:,300] for msk in train_masks_path]\n",
    "#train_msks_np = [msk/msk.max() for msk in train_msks_np]"
   ]
  },
  {
   "cell_type": "code",
   "execution_count": 25,
   "metadata": {},
   "outputs": [
    {
     "name": "stdout",
     "output_type": "stream",
     "text": [
      "1\n",
      "(144, 512, 512)\n",
      "(144, 512, 512)\n",
      "2\n",
      "(144, 512, 512)\n",
      "(144, 512, 512)\n",
      "3\n",
      "(144, 512, 512)\n",
      "(144, 512, 512)\n",
      "4\n",
      "(144, 512, 512)\n",
      "(144, 512, 512)\n",
      "5\n",
      "(144, 512, 512)\n",
      "(144, 512, 512)\n",
      "6\n",
      "(128, 224, 256)\n",
      "(128, 224, 256)\n",
      "7\n",
      "(128, 224, 256)\n",
      "(128, 224, 256)\n",
      "8\n",
      "(128, 224, 256)\n",
      "(128, 224, 256)\n",
      "9\n",
      "(128, 224, 256)\n",
      "(128, 224, 256)\n",
      "10\n",
      "(128, 224, 256)\n",
      "(128, 224, 256)\n",
      "11\n",
      "(261, 336, 336)\n",
      "(261, 336, 336)\n",
      "12\n",
      "(261, 336, 336)\n",
      "(261, 336, 336)\n",
      "13\n",
      "(261, 336, 336)\n",
      "(261, 336, 336)\n",
      "14\n",
      "(261, 336, 336)\n",
      "(261, 336, 336)\n",
      "15\n",
      "(261, 336, 336)\n",
      "(261, 336, 336)\n"
     ]
    }
   ],
   "source": [
    "for i in range(1,16):\n",
    "    IMG_PATH = MICCAI_PATH + 'preprocessed/s'+str(i)+'/FLAIR_preprocessed.nii'\n",
    "    MSK_PATH = MICCAI_PATH + 'unprocessed/s'+str(i)+'/Consensus.nii'\n",
    "    \n",
    "    img = nib.load(IMG_PATH)\n",
    "    msk = nib.load(MSK_PATH)\n",
    "    \n",
    "    print(i)\n",
    "    print(np.array(img.dataobj).shape)\n",
    "    print(np.array(msk.dataobj).shape)"
   ]
  },
  {
   "cell_type": "markdown",
   "metadata": {},
   "source": [
    "#### Visualization of different MRIs"
   ]
  },
  {
   "cell_type": "code",
   "execution_count": 4,
   "metadata": {},
   "outputs": [],
   "source": [
    "imgs_path = [MICCAI_PATH + 'preprocessed/s'+str(i)+'/FLAIR_preprocessed.nii' for i in range(1,16)]\n",
    "masks_path= [MICCAI_PATH + 'unprocessed/s'+str(i)+'/Consensus.nii'           for i in range(1,16)]"
   ]
  },
  {
   "cell_type": "code",
   "execution_count": 21,
   "metadata": {},
   "outputs": [],
   "source": [
    "IMG = 4\n",
    "SLICE = 350"
   ]
  },
  {
   "cell_type": "code",
   "execution_count": 22,
   "metadata": {},
   "outputs": [],
   "source": [
    "data = nib.load(imgs_path[IMG])\n",
    "image_data = data.get_fdata()"
   ]
  },
  {
   "cell_type": "code",
   "execution_count": 23,
   "metadata": {},
   "outputs": [],
   "source": [
    "mask = nib.load(masks_path[IMG])\n",
    "mask_data = mask.get_fdata()"
   ]
  },
  {
   "cell_type": "code",
   "execution_count": 24,
   "metadata": {},
   "outputs": [
    {
     "data": {
      "text/plain": [
       "<matplotlib.image.AxesImage at 0x7f7034254c40>"
      ]
     },
     "execution_count": 24,
     "metadata": {},
     "output_type": "execute_result"
    },
    {
     "data": {
      "image/png": "[encoded data removed]",
      "text/plain": [
       "<Figure size 432x288 with 1 Axes>"
      ]
     },
     "metadata": {
      "needs_background": "light"
     },
     "output_type": "display_data"
    }
   ],
   "source": [
    "plt.imshow(image_data[:,:,SLICE], cmap=\"gray\")"
   ]
  },
  {
   "cell_type": "code",
   "execution_count": 25,
   "metadata": {},
   "outputs": [
    {
     "data": {
      "text/plain": [
       "<matplotlib.image.AxesImage at 0x7f70341af340>"
      ]
     },
     "execution_count": 25,
     "metadata": {},
     "output_type": "execute_result"
    },
    {
     "data": {
      "image/png": "[encoded data removed]",
      "text/plain": [
       "<Figure size 432x288 with 1 Axes>"
      ]
     },
     "metadata": {
      "needs_background": "light"
     },
     "output_type": "display_data"
    }
   ],
   "source": [
    "plt.imshow(mask_data[:,:,SLICE], cmap=\"gray\")"
   ]
  },
  {
   "cell_type": "code",
   "execution_count": 26,
   "metadata": {},
   "outputs": [],
   "source": [
    "slices = [350,350,350,350,300,180,180,180,140,160,220,220,250,250,240]"
   ]
  },
  {
   "cell_type": "code",
   "execution_count": 27,
   "metadata": {},
   "outputs": [
    {
     "name": "stdout",
     "output_type": "stream",
     "text": [
      "0\n",
      "(144, 512)\n",
      "(144, 512)\n",
      "1\n",
      "(144, 512)\n",
      "(144, 512)\n",
      "2\n",
      "(144, 512)\n",
      "(144, 512)\n",
      "3\n",
      "(144, 512)\n",
      "(144, 512)\n",
      "4\n",
      "(144, 512)\n",
      "(144, 512)\n",
      "5\n",
      "(128, 224)\n",
      "(128, 224)\n",
      "6\n",
      "(128, 224)\n",
      "(128, 224)\n",
      "7\n",
      "(128, 224)\n",
      "(128, 224)\n",
      "8\n",
      "(128, 224)\n",
      "(128, 224)\n",
      "9\n",
      "(128, 224)\n",
      "(128, 224)\n",
      "10\n",
      "(261, 336)\n",
      "(261, 336)\n",
      "11\n",
      "(261, 336)\n",
      "(261, 336)\n",
      "12\n",
      "(261, 336)\n",
      "(261, 336)\n",
      "13\n",
      "(261, 336)\n",
      "(261, 336)\n",
      "14\n",
      "(261, 336)\n",
      "(261, 336)\n"
     ]
    }
   ],
   "source": [
    "for i in range(1,16):\n",
    "    IMG_PATH = MICCAI_PATH + 'preprocessed/s'+str(i)+'/FLAIR_preprocessed.nii'\n",
    "    MSK_PATH = MICCAI_PATH + 'unprocessed/s'+str(i)+'/Consensus.nii'\n",
    "    \n",
    "    img = nib.load(IMG_PATH)\n",
    "    msk = nib.load(MSK_PATH)\n",
    "    \n",
    "    print(i-1)\n",
    "    print(np.array(img.dataobj)[:,:,slices[i-1]].shape)\n",
    "    print(np.array(msk.dataobj)[:,:,slices[i-1]].shape)"
   ]
  },
  {
   "cell_type": "markdown",
   "metadata": {},
   "source": [
    "#### MRIs resize "
   ]
  },
  {
   "cell_type": "code",
   "execution_count": 1,
   "metadata": {},
   "outputs": [],
   "source": [
    "import pyeddl.eddl as eddl\n",
    "from pyeddl.tensor import Tensor"
   ]
  },
  {
   "cell_type": "code",
   "execution_count": 2,
   "metadata": {},
   "outputs": [],
   "source": [
    "import numpy   as np\n",
    "import nibabel as nib\n",
    "import matplotlib.pyplot as plt\n",
    "import skimage.transform as skTrans"
   ]
  },
  {
   "cell_type": "code",
   "execution_count": 3,
   "metadata": {},
   "outputs": [],
   "source": [
    "MICCAI_PATH = '/home/francisco/Documents/Universidad/5_Carrera/TFG_Computer_Science/datasets/miccai2016/'"
   ]
  },
  {
   "cell_type": "code",
   "execution_count": 4,
   "metadata": {},
   "outputs": [],
   "source": [
    "test_imgs_idx  = [4,9,14]\n",
    "\n",
    "train_imgs_path = [MICCAI_PATH + 'preprocessed/s'+str(i)+'/FLAIR_preprocessed.nii' for i in range(1,16) if i not in test_imgs_idx]\n",
    "train_masks_path= [MICCAI_PATH + 'unprocessed/s'+str(i)+'/Consensus.nii'           for i in range(1,16) if i not in test_imgs_idx]\n",
    "\n",
    "test_imgs_path  = [MICCAI_PATH + 'preprocessed/s'+str(i)+'/FLAIR_preprocessed.nii' for i in test_imgs_idx]\n",
    "test_masks_path = [MICCAI_PATH + 'unprocessed/s'+str(i)+'/Consensus.nii'           for i in test_imgs_idx]"
   ]
  },
  {
   "cell_type": "code",
   "execution_count": 13,
   "metadata": {},
   "outputs": [],
   "source": [
    "im = nib.load(train_imgs_path[0]).get_fdata()"
   ]
  },
  {
   "cell_type": "code",
   "execution_count": 14,
   "metadata": {},
   "outputs": [],
   "source": [
    "result1 = skTrans.resize(im, (256,256,256), order=1, preserve_range=True)"
   ]
  },
  {
   "cell_type": "code",
   "execution_count": 17,
   "metadata": {
    "scrolled": true
   },
   "outputs": [
    {
     "data": {
      "text/plain": [
       "<matplotlib.image.AxesImage at 0x7fe0a1704b20>"
      ]
     },
     "execution_count": 17,
     "metadata": {},
     "output_type": "execute_result"
    },
    {
     "data": {
      "image/png": "[encoded data removed]",
      "text/plain": [
       "<Figure size 432x288 with 1 Axes>"
      ]
     },
     "metadata": {
      "needs_background": "light"
     },
     "output_type": "display_data"
    }
   ],
   "source": [
    "plt.imshow(result1[:,:,150], cmap=\"gray\")"
   ]
  },
  {
   "cell_type": "code",
   "execution_count": 18,
   "metadata": {},
   "outputs": [
    {
     "data": {
      "text/plain": [
       "<matplotlib.image.AxesImage at 0x7fe0a10f1250>"
      ]
     },
     "execution_count": 18,
     "metadata": {},
     "output_type": "execute_result"
    },
    {
     "data": {
      "image/png": "[encoded data removed]",
      "text/plain": [
       "<Figure size 432x288 with 1 Axes>"
      ]
     },
     "metadata": {
      "needs_background": "light"
     },
     "output_type": "display_data"
    }
   ],
   "source": [
    "plt.imshow(result1[150,:,:], cmap=\"gray\")"
   ]
  },
  {
   "cell_type": "code",
   "execution_count": 19,
   "metadata": {},
   "outputs": [
    {
     "data": {
      "text/plain": [
       "<matplotlib.image.AxesImage at 0x7fe0a12e8940>"
      ]
     },
     "execution_count": 19,
     "metadata": {},
     "output_type": "execute_result"
    },
    {
     "data": {
      "image/png": "[encoded data removed]",
      "text/plain": [
       "<Figure size 432x288 with 1 Axes>"
      ]
     },
     "metadata": {
      "needs_background": "light"
     },
     "output_type": "display_data"
    }
   ],
   "source": [
    "plt.imshow(result1[:,150,:], cmap=\"gray\")"
   ]
  },
  {
   "cell_type": "markdown",
   "metadata": {},
   "source": [
    "#### Tensor creation"
   ]
  },
  {
   "cell_type": "code",
   "execution_count": 5,
   "metadata": {},
   "outputs": [],
   "source": [
    "train_x = []\n",
    "train_y = []\n",
    "\n",
    "for (img,msk) in zip(train_imgs_path, train_masks_path):\n",
    "    img_np = nib.load(img).get_fdata()\n",
    "    msk_np = nib.load(msk).get_fdata()\n",
    "    \n",
    "    img_np = skTrans.resize(img_np, (256,256,256), order=1, preserve_range=True)\n",
    "    msk_np = skTrans.resize(msk_np, (256,256,256), order=1, preserve_range=True)\n",
    "    \n",
    "    for i in range(256):\n",
    "        train_x.append(img_np[:,:,i])\n",
    "        train_y.append(msk_np[:,:,i])\n",
    "    \n",
    "tensor_x = Tensor.fromarray(train_x)\n",
    "tensor_y = Tensor.fromarray(train_y)\n",
    "\n",
    "tensor_x.save(\"miccai_trX.bin\", \"bin\")\n",
    "tensor_y.save(\"miccai_trY.bin\", \"bin\")"
   ]
  },
  {
   "cell_type": "code",
   "execution_count": 5,
   "metadata": {},
   "outputs": [],
   "source": [
    "test_x = []\n",
    "test_y = []\n",
    "\n",
    "for (img,msk) in zip(test_imgs_path, test_masks_path):\n",
    "    img_np = nib.load(img).get_fdata()\n",
    "    msk_np = nib.load(msk).get_fdata()\n",
    "    \n",
    "    img_np = skTrans.resize(img_np, (256,256,256), order=1, preserve_range=True)\n",
    "    msk_np = skTrans.resize(msk_np, (256,256,256), order=1, preserve_range=True)\n",
    "    \n",
    "    for i in range(256):\n",
    "        test_x.append(img_np[:,:,i])\n",
    "        test_y.append(msk_np[:,:,i])\n",
    "    \n",
    "tensor_x = Tensor.fromarray(test_x)\n",
    "tensor_y = Tensor.fromarray(test_y)\n",
    "\n",
    "tensor_x.save(\"miccai_tsX.bin\", \"bin\")\n",
    "tensor_y.save(\"miccai_tsY.bin\", \"bin\")"
   ]
  },
  {
   "cell_type": "markdown",
   "metadata": {},
   "source": [
    "#### Tensor load and selection"
   ]
  },
  {
   "cell_type": "code",
   "execution_count": 4,
   "metadata": {},
   "outputs": [],
   "source": [
    "tensor_x = Tensor.load(MICCAI_PATH + \"bin/miccai_tsX.bin\")"
   ]
  },
  {
   "cell_type": "code",
   "execution_count": 5,
   "metadata": {},
   "outputs": [
    {
     "data": {
      "text/plain": [
       "[3, 256, 256, 256]"
      ]
     },
     "execution_count": 5,
     "metadata": {},
     "output_type": "execute_result"
    }
   ],
   "source": [
    "tensor_x.shape"
   ]
  },
  {
   "cell_type": "code",
   "execution_count": 6,
   "metadata": {},
   "outputs": [],
   "source": [
    "aux = tensor_x.select([\"1\",\":\",\":\",\":\"])"
   ]
  },
  {
   "cell_type": "code",
   "execution_count": 7,
   "metadata": {},
   "outputs": [
    {
     "data": {
      "text/plain": [
       "[1, 256, 256, 256]"
      ]
     },
     "execution_count": 7,
     "metadata": {},
     "output_type": "execute_result"
    }
   ],
   "source": [
    "aux.shape"
   ]
  },
  {
   "cell_type": "code",
   "execution_count": null,
   "metadata": {},
   "outputs": [],
   "source": [
    "aux.reshape_([256,256,1])"
   ]
  },
  {
   "cell_type": "code",
   "execution_count": 10,
   "metadata": {},
   "outputs": [
    {
     "data": {
      "text/plain": [
       "[256, 256, 256]"
      ]
     },
     "execution_count": 10,
     "metadata": {},
     "output_type": "execute_result"
    }
   ],
   "source": [
    "aux.shape"
   ]
  },
  {
   "cell_type": "code",
   "execution_count": 12,
   "metadata": {},
   "outputs": [],
   "source": [
    "img_np = aux.getdata()"
   ]
  },
  {
   "cell_type": "code",
   "execution_count": 14,
   "metadata": {
    "scrolled": true
   },
   "outputs": [
    {
     "data": {
      "text/plain": [
       "<matplotlib.image.AxesImage at 0x7f9dc5004400>"
      ]
     },
     "execution_count": 14,
     "metadata": {},
     "output_type": "execute_result"
    },
    {
     "data": {
      "image/png": "[encoded data removed]",
      "text/plain": [
       "<Figure size 432x288 with 1 Axes>"
      ]
     },
     "metadata": {
      "needs_background": "light"
     },
     "output_type": "display_data"
    }
   ],
   "source": [
    "plt.imshow(img_np[:,:,150], cmap=\"gray\")"
   ]
  },
  {
   "cell_type": "markdown",
   "metadata": {},
   "source": [
    "#### Tensor load and selection"
   ]
  },
  {
   "cell_type": "code",
   "execution_count": 5,
   "metadata": {},
   "outputs": [],
   "source": [
    "tensor_x = Tensor.load(\"miccai_tsX.bin\")\n",
    "tensor_y = Tensor.load(\"miccai_tsY.bin\")"
   ]
  },
  {
   "cell_type": "code",
   "execution_count": 6,
   "metadata": {},
   "outputs": [
    {
     "name": "stdout",
     "output_type": "stream",
     "text": [
      "[768, 256, 256]\n",
      "[768, 256, 256]\n"
     ]
    }
   ],
   "source": [
    "print(tensor_x.shape)\n",
    "print(tensor_y.shape)"
   ]
  },
  {
   "cell_type": "code",
   "execution_count": 31,
   "metadata": {},
   "outputs": [],
   "source": [
    "imgx = tensor_x.select([\"185\",\":\",\":\"])\n",
    "mskx = tensor_y.select([\"185\",\":\",\":\"])"
   ]
  },
  {
   "cell_type": "code",
   "execution_count": 32,
   "metadata": {},
   "outputs": [
    {
     "name": "stdout",
     "output_type": "stream",
     "text": [
      "[1, 256, 256]\n",
      "[1, 256, 256]\n"
     ]
    }
   ],
   "source": [
    "print(imgx.shape)\n",
    "print(mskx.shape)"
   ]
  },
  {
   "cell_type": "code",
   "execution_count": 33,
   "metadata": {},
   "outputs": [],
   "source": [
    "img_np = imgx.getdata().T\n",
    "msk_np = mskx.getdata().T"
   ]
  },
  {
   "cell_type": "code",
   "execution_count": 34,
   "metadata": {},
   "outputs": [
    {
     "data": {
      "text/plain": [
       "<matplotlib.image.AxesImage at 0x7fde835263d0>"
      ]
     },
     "execution_count": 34,
     "metadata": {},
     "output_type": "execute_result"
    },
    {
     "data": {
      "image/png": "[encoded data removed]",
      "text/plain": [
       "<Figure size 432x288 with 1 Axes>"
      ]
     },
     "metadata": {
      "needs_background": "light"
     },
     "output_type": "display_data"
    }
   ],
   "source": [
    "plt.imshow(img_np[:,:,0], cmap=\"gray\")"
   ]
  },
  {
   "cell_type": "code",
   "execution_count": 35,
   "metadata": {},
   "outputs": [
    {
     "data": {
      "text/plain": [
       "<matplotlib.image.AxesImage at 0x7fde834f3970>"
      ]
     },
     "execution_count": 35,
     "metadata": {},
     "output_type": "execute_result"
    },
    {
     "data": {
      "image/png": "[encoded data removed]",
      "text/plain": [
       "<Figure size 432x288 with 1 Axes>"
      ]
     },
     "metadata": {
      "needs_background": "light"
     },
     "output_type": "display_data"
    }
   ],
   "source": [
    "plt.imshow(msk_np[:,:,0], cmap=\"gray\")"
   ]
  },
  {
   "cell_type": "markdown",
   "metadata": {},
   "source": [
    "#### Tensor load and selection"
   ]
  },
  {
   "cell_type": "code",
   "execution_count": 1,
   "metadata": {},
   "outputs": [],
   "source": [
    "import pyeddl.eddl as eddl\n",
    "from pyeddl.tensor import Tensor"
   ]
  },
  {
   "cell_type": "code",
   "execution_count": 2,
   "metadata": {},
   "outputs": [],
   "source": [
    "import numpy   as np\n",
    "import nibabel as nib\n",
    "import matplotlib.pyplot as plt"
   ]
  },
  {
   "cell_type": "code",
   "execution_count": 3,
   "metadata": {},
   "outputs": [],
   "source": [
    "MICCAI_PATH = '/home/francisco/Documents/Universidad/5_Carrera/TFG_Computer_Science/datasets/miccai2016/'"
   ]
  },
  {
   "cell_type": "code",
   "execution_count": 4,
   "metadata": {},
   "outputs": [],
   "source": [
    "tensor_x = Tensor.load(MICCAI_PATH+\"bin/miccai_tsX_preprocessed.bin\")\n",
    "tensor_y = Tensor.load(MICCAI_PATH+\"bin/miccai_tsY_preprocessed.bin\")"
   ]
  },
  {
   "cell_type": "code",
   "execution_count": 5,
   "metadata": {},
   "outputs": [],
   "source": [
    "idx = 1894"
   ]
  },
  {
   "cell_type": "code",
   "execution_count": 6,
   "metadata": {},
   "outputs": [],
   "source": [
    "img_tensor = tensor_x.select([str(idx)])\n",
    "msk_tensor = tensor_y.select([str(idx)])"
   ]
  },
  {
   "cell_type": "code",
   "execution_count": 7,
   "metadata": {},
   "outputs": [],
   "source": [
    "img_np = img_tensor.getdata().T\n",
    "msk_np = msk_tensor.getdata().T"
   ]
  },
  {
   "cell_type": "code",
   "execution_count": 8,
   "metadata": {},
   "outputs": [
    {
     "data": {
      "text/plain": [
       "<matplotlib.image.AxesImage at 0x7f75d64496a0>"
      ]
     },
     "execution_count": 8,
     "metadata": {},
     "output_type": "execute_result"
    },
    {
     "data": {
      "image/png": "[encoded data removed]",
      "text/plain": [
       "<Figure size 432x288 with 1 Axes>"
      ]
     },
     "metadata": {
      "needs_background": "light"
     },
     "output_type": "display_data"
    }
   ],
   "source": [
    "plt.imshow(img_np[:,:,0], cmap=\"gray\")"
   ]
  },
  {
   "cell_type": "code",
   "execution_count": 9,
   "metadata": {},
   "outputs": [
    {
     "data": {
      "text/plain": [
       "<matplotlib.image.AxesImage at 0x7f75d6361640>"
      ]
     },
     "execution_count": 9,
     "metadata": {},
     "output_type": "execute_result"
    },
    {
     "data": {
      "image/png": "[encoded data removed]",
      "text/plain": [
       "<Figure size 432x288 with 1 Axes>"
      ]
     },
     "metadata": {
      "needs_background": "light"
     },
     "output_type": "display_data"
    }
   ],
   "source": [
    "plt.imshow(msk_np[:,:,0], cmap=\"gray\")"
   ]
  },
  {
   "cell_type": "code",
   "execution_count": null,
   "metadata": {},
   "outputs": [],
   "source": []
  },
  {
   "cell_type": "code",
   "execution_count": null,
   "metadata": {},
   "outputs": [],
   "source": []
  }
 ],
 "metadata": {
  "kernelspec": {
   "display_name": "Python 3",
   "language": "python",
   "name": "python3"
  },
  "language_info": {
   "codemirror_mode": {
    "name": "ipython",
    "version": 3
   },
   "file_extension": ".py",
   "mimetype": "text/x-python",
   "name": "python",
   "nbconvert_exporter": "python",
   "pygments_lexer": "ipython3",
   "version": "3.9.5"
  }
 },
 "nbformat": 4,
 "nbformat_minor": 4
}
