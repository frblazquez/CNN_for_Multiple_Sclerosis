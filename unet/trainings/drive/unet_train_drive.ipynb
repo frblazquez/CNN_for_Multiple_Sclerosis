{
 "cells": [
  {
   "cell_type": "markdown",
   "id": "3df7dbaa",
   "metadata": {},
   "source": [
    "## U-Net training for DRIVE challenge\n",
    "\n",
    "Training and evaluation over the [Drive dataset](https://drive.grand-challenge.org/) of the U-Net model created with PyEDDL library."
   ]
  },
  {
   "cell_type": "markdown",
   "id": "bdb3fe77",
   "metadata": {},
   "source": [
    "**Francisco Javier Blázquez Martínez** \\\n",
    "**francisco.blazquezmartinez@epfl.ch**\n",
    "\n",
    "Double degree in Mathematics-Computer Engineering\n",
    "\n",
    "Complutense University of Madrid, Spain \\\n",
    "École Politechnique Fédérale de Lausanne, Switzerland\n",
    "\n",
    "DeepHealth project"
   ]
  },
  {
   "cell_type": "code",
   "execution_count": null,
   "id": "998d13b0",
   "metadata": {},
   "outputs": [],
   "source": [
    "import pyeddl.eddl as eddl\n",
    "from pyeddl.tensor import Tensor"
   ]
  },
  {
   "cell_type": "code",
   "execution_count": null,
   "id": "e1750090",
   "metadata": {},
   "outputs": [],
   "source": [
    "# Set the following variable to the folder containing the DRIVE dataset\n",
    "DRIVE_PATH = None"
   ]
  },
  {
   "cell_type": "markdown",
   "id": "8e48f534",
   "metadata": {},
   "source": [
    "#### DRIVE Dataset download"
   ]
  },
  {
   "cell_type": "code",
   "execution_count": null,
   "id": "08f53d96",
   "metadata": {},
   "outputs": [],
   "source": [
    "# Uncomment to download the DRIVE dataset\n",
    "# eddl.download_drive()"
   ]
  },
  {
   "cell_type": "markdown",
   "id": "e0ce24fb",
   "metadata": {},
   "source": [
    "#### DRIVE Data Augmentation"
   ]
  },
  {
   "cell_type": "code",
   "execution_count": null,
   "id": "b4cc34ef",
   "metadata": {},
   "outputs": [],
   "source": [
    "# TODO"
   ]
  },
  {
   "cell_type": "markdown",
   "id": "f8f70f35",
   "metadata": {},
   "source": [
    "#### DRIVE Data Preprocessing"
   ]
  },
  {
   "cell_type": "code",
   "execution_count": null,
   "id": "dc53f248",
   "metadata": {},
   "outputs": [],
   "source": [
    "# WARNING! Run only once, new tensor files (.bin) are created in the dataset folder\n",
    "\n",
    "# We follow here the preprocessing done in pyeddl examples, consider however resizing \n",
    "# the images to a lower quality so that the memory required for training is much lower."
   ]
  },
  {
   "cell_type": "code",
   "execution_count": null,
   "id": "2b45d259",
   "metadata": {},
   "outputs": [],
   "source": [
    "import os"
   ]
  },
  {
   "cell_type": "code",
   "execution_count": null,
   "id": "5ba7fa15",
   "metadata": {},
   "outputs": [],
   "source": [
    "# Get the image and mask and scale and crop (to 512x512) them both\n",
    "in_1  = eddl.Input([3, 584, 584])\n",
    "in_2  = eddl.Input([1, 584, 584])\n",
    "layer = eddl.Concat([in_1, in_2])\n",
    "\n",
    "layer = eddl.RandomCropScale(layer, [0.9, 1.0])\n",
    "layer = eddl.CenteredCrop(layer, [512, 512])\n",
    "img   = eddl.Select(layer, [\"0:3\"])\n",
    "mask  = eddl.Select(layer, [\"3\"])\n",
    "\n",
    "danet = eddl.Model([in_1, in_2], [])\n",
    "eddl.build(danet,cs=eddl.CS_CPU())\n",
    "eddl.summary(danet)"
   ]
  },
  {
   "cell_type": "code",
   "execution_count": null,
   "id": "12c55e3d",
   "metadata": {},
   "outputs": [],
   "source": [
    "drive_imgs = Tensor.load(DRIVE_PATH+\"drive_trX.bin\")\n",
    "drive_msks = Tensor.load(DRIVE_PATH+\"drive_trY.bin\")"
   ]
  },
  {
   "cell_type": "code",
   "execution_count": null,
   "id": "f86b6f48",
   "metadata": {},
   "outputs": [],
   "source": [
    "eddl.forward(danet, [drive_imgs, drive_msks])\n",
    "drive_imgs_processed = eddl.getOutput(img)\n",
    "drive_msks_processed = eddl.getOutput(mask)"
   ]
  },
  {
   "cell_type": "code",
   "execution_count": null,
   "id": "a8bff435",
   "metadata": {},
   "outputs": [],
   "source": [
    "# Resize check\n",
    "#print(drive_imgs_processed.shape)\n",
    "#print(drive_msks_processed.shape)"
   ]
  },
  {
   "cell_type": "code",
   "execution_count": null,
   "id": "9e5f105f",
   "metadata": {},
   "outputs": [],
   "source": [
    "drive_imgs_processed.save(\"drive_trX_preprocessed.bin\")\n",
    "drive_msks_processed.save(\"drive_trY_preprocessed.bin\")"
   ]
  },
  {
   "cell_type": "code",
   "execution_count": null,
   "id": "62bb9922",
   "metadata": {},
   "outputs": [],
   "source": [
    "os.rename(\"drive_trX_preprocessed.bin\", DRIVE_PATH+\"drive_trX_preprocessed.bin\")\n",
    "os.rename(\"drive_trY_preprocessed.bin\", DRIVE_PATH+\"drive_trY_preprocessed.bin\")"
   ]
  },
  {
   "cell_type": "markdown",
   "id": "4718d830",
   "metadata": {},
   "source": [
    "#### DRIVE Preprocessed data visualization"
   ]
  },
  {
   "cell_type": "code",
   "execution_count": null,
   "id": "f11d0636",
   "metadata": {},
   "outputs": [],
   "source": [
    "import numpy   as np\n",
    "import matplotlib.pyplot as plt\n",
    "import random"
   ]
  },
  {
   "cell_type": "code",
   "execution_count": null,
   "id": "65f8faa0",
   "metadata": {},
   "outputs": [],
   "source": [
    "tensor_x = Tensor.load(DRIVE_PATH + \"drive_trX_preprocessed.bin\")\n",
    "tensor_y = Tensor.load(DRIVE_PATH + \"drive_trY_preprocessed.bin\")"
   ]
  },
  {
   "cell_type": "code",
   "execution_count": null,
   "id": "237b8bd0",
   "metadata": {},
   "outputs": [],
   "source": [
    "fig = plt.figure(figsize=(16, 10))\n",
    "rows = 2\n",
    "columns = 4\n",
    "\n",
    "for i in range(columns):\n",
    "    idx = random.randint(0, tensor_x.shape[1])\n",
    "    \n",
    "    img_np = tensor_x.select([str(i)])\n",
    "    msk_np = tensor_y.select([str(i)])\n",
    "    \n",
    "    # Remove batches axis (and number of channels for the mask)\n",
    "    img_np.reshape_(img_np.shape[1:])\n",
    "    msk_np.reshape_(msk_np.shape[2:])\n",
    "    \n",
    "    # Prepare to Matplotlib visualization\n",
    "    img_np = img_np.getdata().astype(np.int32).T\n",
    "    msk_np = msk_np.getdata().astype(np.int32).T\n",
    "\n",
    "    # Size check\n",
    "    #print(img0_np.shape)\n",
    "    #print(msk0_np.shape)\n",
    "\n",
    "    fig.add_subplot(rows, columns, i+1)\n",
    "    plt.imshow(img_np)\n",
    "    plt.axis('off')\n",
    "    \n",
    "    fig.add_subplot(rows, columns, i+1+columns)\n",
    "    plt.imshow(msk_np) # set cmap=\"gray\" to display the image in B&W\n",
    "    plt.axis('off')"
   ]
  },
  {
   "cell_type": "markdown",
   "id": "214dbed9",
   "metadata": {},
   "source": [
    "#### U-Net model train"
   ]
  },
  {
   "cell_type": "code",
   "execution_count": null,
   "id": "c3e5fde7",
   "metadata": {},
   "outputs": [],
   "source": [
    "# WARNING! Heavy computation, run preferably on the server!"
   ]
  },
  {
   "cell_type": "code",
   "execution_count": null,
   "id": "b0179a5d",
   "metadata": {},
   "outputs": [],
   "source": [
    "from unet import unet"
   ]
  },
  {
   "cell_type": "code",
   "execution_count": null,
   "id": "17ff835a",
   "metadata": {},
   "outputs": [],
   "source": [
    "EPOCHS        = 10\n",
    "BATCH_SIZE    = 8\n",
    "NUM_BATCHES   = 50\n",
    "GPU           = True\n",
    "MEM           = \"full_mem\"\n",
    "LOSS_FUNCTION = \"mse\"\n",
    "METRICS       = \"mse\"\n",
    "LEARNING_RATE = 0.00001"
   ]
  },
  {
   "cell_type": "code",
   "execution_count": null,
   "id": "efebbcbd",
   "metadata": {},
   "outputs": [],
   "source": [
    "in_ = eddl.Input([3, 512, 512])\n",
    "net = unet(in_)\n",
    "\n",
    "# TODO: Should we return the model created or the output layer?\n",
    "#out = unet(in_) \n",
    "#net = eddl.Model([in_], [out])\n",
    "\n",
    "eddl.build(\n",
    "    net,\n",
    "    eddl.adam(LEARNING_RATE),  # Optimizer\n",
    "    [LOSS_FUNCTION],           # Losses\n",
    "    [METRICS],                 # Metrics\n",
    "    eddl.CS_GPU(mem=MEM) if GPU else eddl.CS_CPU(mem=MEM)\n",
    ")\n",
    "\n",
    "eddl.summary(net)"
   ]
  },
  {
   "cell_type": "code",
   "execution_count": null,
   "id": "596e630d",
   "metadata": {},
   "outputs": [],
   "source": [
    "x_train = Tensor.load(DRIVE_PATH+\"drive_trX_preprocessed.bin\")\n",
    "x_train.div_(255.0)\n",
    "x_train.info()\n",
    "\n",
    "y_train = Tensor.load(DRIVE_PATH+\"drive_trY_preprocessed.bin\")\n",
    "y_train.div_(255.0)\n",
    "y_train.info()\n",
    "\n",
    "xbatch = Tensor([BATCH_SIZE, 3, 512, 512])\n",
    "ybatch = Tensor([BATCH_SIZE, 1, 512, 512])"
   ]
  },
  {
   "cell_type": "code",
   "execution_count": null,
   "id": "0538bdb9",
   "metadata": {},
   "outputs": [],
   "source": [
    "for i in range(EPOCHS):\n",
    "    print(\"\\nEpoch %d/%d\" % (i + 1, EPOCHS))\n",
    "    eddl.reset_loss(net)\n",
    "    for j in range(NUM_BATCHES):\n",
    "        eddl.next_batch([x_train, y_train], [xbatch, ybatch])\n",
    "        eddl.train_batch(net, [xbatch_da], [ybatch_da])\n",
    "        eddl.print_loss(net, j)"
   ]
  },
  {
   "cell_type": "markdown",
   "id": "c69c3565",
   "metadata": {},
   "source": [
    "#### U-Net model save"
   ]
  },
  {
   "cell_type": "code",
   "execution_count": null,
   "id": "6da23532",
   "metadata": {},
   "outputs": [],
   "source": [
    "eddl.save(\"models/unet_drive.bin\")"
   ]
  },
  {
   "cell_type": "markdown",
   "id": "ce7d71bd",
   "metadata": {},
   "source": [
    "#### U-Net model load"
   ]
  },
  {
   "cell_type": "code",
   "execution_count": null,
   "id": "8893a760",
   "metadata": {},
   "outputs": [],
   "source": [
    "from unet import unet"
   ]
  },
  {
   "cell_type": "code",
   "execution_count": null,
   "id": "cb19d0d5",
   "metadata": {},
   "outputs": [],
   "source": [
    "GPU           = True\n",
    "MEM           = \"full_mem\"\n",
    "LOSS_FUNCTION = \"mse\"\n",
    "METRICS       = \"mse\"\n",
    "LEARNING_RATE = 0.00001"
   ]
  },
  {
   "cell_type": "code",
   "execution_count": null,
   "id": "5ce1c60b",
   "metadata": {},
   "outputs": [],
   "source": [
    "in_ = eddl.Input([3, 512, 512])\n",
    "net = unet(in_)\n",
    "\n",
    "# TODO: Should we return the model created or the output layer?\n",
    "#out = unet(in_) \n",
    "#net = eddl.Model([in_], [out])\n",
    "\n",
    "eddl.build(\n",
    "    net,\n",
    "    eddl.adam(LEARNING_RATE),  # Optimizer\n",
    "    [LOSS_FUNCTION],           # Losses\n",
    "    [METRICS],                 # Metrics\n",
    "    eddl.CS_GPU(mem=MEM) if GPU else eddl.CS_CPU(mem=MEM)\n",
    ")\n",
    "\n",
    "eddl.summary(net)"
   ]
  },
  {
   "cell_type": "code",
   "execution_count": null,
   "id": "e6eaa788",
   "metadata": {},
   "outputs": [],
   "source": [
    "eddl.load(net, \"models/unet_drive.bin\")"
   ]
  },
  {
   "cell_type": "markdown",
   "id": "e98c2bbc",
   "metadata": {},
   "source": [
    "#### U-Net model visual analysis"
   ]
  },
  {
   "cell_type": "code",
   "execution_count": null,
   "id": "ea21b4c7",
   "metadata": {},
   "outputs": [],
   "source": [
    "import numpy   as np\n",
    "import matplotlib.pyplot as plt\n",
    "import random"
   ]
  },
  {
   "cell_type": "code",
   "execution_count": null,
   "id": "416439b5",
   "metadata": {},
   "outputs": [],
   "source": [
    "tensor_x = Tensor.load(DRIVE_PATH + \"drive_trX_preprocessed.bin\")\n",
    "tensor_y = Tensor.load(DRIVE_PATH + \"drive_trY_preprocessed.bin\")"
   ]
  },
  {
   "cell_type": "code",
   "execution_count": null,
   "id": "c55cd055",
   "metadata": {},
   "outputs": [],
   "source": [
    "fig = plt.figure(figsize=(24, 10))\n",
    "rows = 3\n",
    "columns = 6\n",
    "\n",
    "for i in range(columns):\n",
    "    idx = random.randint(0, tensor_x.shape[1])\n",
    "    \n",
    "    img_np = tensor_x.select([str(i)])\n",
    "    msk_np = tensor_y.select([str(i)])\n",
    "    \n",
    "    # Remove batches axis (and number of channels for the mask)\n",
    "    img_np.reshape_(img_np.shape[1:])\n",
    "    msk_np.reshape_(msk_np.shape[2:])\n",
    "    \n",
    "    # Prepare to Matplotlib visualization\n",
    "    img_np = img_np.getdata().astype(np.int32).T\n",
    "    msk_np = msk_np.getdata().astype(np.int32).T\n",
    "\n",
    "    # Size check\n",
    "    #print(img0_np.shape)\n",
    "    #print(msk0_np.shape)\n",
    "\n",
    "    fig.add_subplot(rows, columns, i+1)\n",
    "    plt.imshow(img_np)\n",
    "    plt.axis('off')\n",
    "    \n",
    "    fig.add_subplot(rows, columns, i+1+columns)\n",
    "    plt.imshow(msk_np) # set cmap=\"gray\" to display the image in B&W\n",
    "    plt.axis('off')\n",
    "    \n",
    "    # TODO: Here we should take the mask that our model gives!\n",
    "    fig.add_subplot(rows, columns, i+1+columns*2)\n",
    "    plt.imshow(msk_np) # set cmap=\"gray\" to display the image in B&W\n",
    "    plt.axis('off')"
   ]
  },
  {
   "cell_type": "markdown",
   "id": "18ec4736",
   "metadata": {},
   "source": [
    "#### U-Net model evaluation"
   ]
  },
  {
   "cell_type": "code",
   "execution_count": null,
   "id": "2786bc50",
   "metadata": {},
   "outputs": [],
   "source": [
    "# TODO: Keep some images out of the train set for evaluation!"
   ]
  },
  {
   "cell_type": "markdown",
   "id": "efd1f21b",
   "metadata": {},
   "source": [
    "#### References:\n",
    "https://drive.grand-challenge.org/ \\\n",
    "https://paperswithcode.com/dataset/drive "
   ]
  }
 ],
 "metadata": {
  "kernelspec": {
   "display_name": "Python 3",
   "language": "python",
   "name": "python3"
  },
  "language_info": {
   "codemirror_mode": {
    "name": "ipython",
    "version": 3
   },
   "file_extension": ".py",
   "mimetype": "text/x-python",
   "name": "python",
   "nbconvert_exporter": "python",
   "pygments_lexer": "ipython3",
   "version": "3.8.8"
  }
 },
 "nbformat": 4,
 "nbformat_minor": 5
}
